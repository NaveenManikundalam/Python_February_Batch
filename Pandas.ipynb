{
 "cells": [
  {
   "cell_type": "markdown",
   "id": "b41b9bfb-5092-4dfc-b7f0-a022c193e6ba",
   "metadata": {},
   "source": [
    "### PANDAS: INTRODUCTION"
   ]
  },
  {
   "cell_type": "markdown",
   "id": "fe45fa79-6ed3-412b-be92-9e4e8736af0c",
   "metadata": {},
   "source": [
    "> It is often said that 80% of data analysis is spent on the data cleaning and preparing data. To get a handle on the problem, this section focuses on a small, but important aspect of data manipulation and cleaning with Pandas."
   ]
  },
  {
   "cell_type": "markdown",
   "id": "277ee72f-c713-44f6-85a0-7bab0fd8f317",
   "metadata": {},
   "source": [
    "### Data Structures"
   ]
  },
  {
   "cell_type": "markdown",
   "id": "26a11033-deee-4072-bb77-8e7c1d23eea0",
   "metadata": {},
   "source": [
    "**There are two data structures are there in Pandas -**<br>\n",
    "* **Series -** It is one-dimensional labeled array capable of holding any data type (integer, strings, floating point numbers, Python objects etc.) of data. The axis is collectively referred to as index.\n",
    "\n",
    "* **Data Frame -** It is a two-dimensional labeled data structure with columns of potentially different types. You can think of it like a spreadsheet or SQL Table or a Series of objects."
   ]
  },
  {
   "cell_type": "markdown",
   "id": "c6f113a9-cfc3-4cf8-9e4d-1bc23b9c6e90",
   "metadata": {},
   "source": [
    "### Series Data Structure:"
   ]
  },
  {
   "cell_type": "markdown",
   "id": "f3ba719b-8710-411a-8d1c-6465e55d98a6",
   "metadata": {},
   "source": [
    "**pandas.core.series.Series(data, index, dtype, copy)**<br>\n",
    "* **data -** data takes various forms like ndarray, list, constants, dictionary etc.<br>\n",
    "* **index -** it is unique and hashable for easy identification.<br>\n",
    "* **dtype -** it is for data type.<br>\n",
    "* **copy -** copy data, and its default value is False. It only affects for Series or one dimensional ndarray inputs."
   ]
  },
  {
   "cell_type": "code",
   "execution_count": 1,
   "id": "d53c677f-a553-4489-b835-8d2ec1c594e5",
   "metadata": {},
   "outputs": [],
   "source": [
    "# importing required modules\n",
    "import pandas as pd\n",
    "import numpy as np"
   ]
  },
  {
   "cell_type": "code",
   "execution_count": 2,
   "id": "be89e20c-f0d6-402f-8ff0-570c1af15b06",
   "metadata": {},
   "outputs": [
    {
     "name": "stdout",
     "output_type": "stream",
     "text": [
      "Series([], dtype: float64) <class 'pandas.core.series.Series'>\n"
     ]
    },
    {
     "name": "stderr",
     "output_type": "stream",
     "text": [
      "<ipython-input-2-2a82def5a837>:2: DeprecationWarning: The default dtype for empty Series will be 'object' instead of 'float64' in a future version. Specify a dtype explicitly to silence this warning.\n",
      "  s = pd.Series()\n"
     ]
    }
   ],
   "source": [
    "# creating empty Series\n",
    "s = pd.Series()\n",
    "print (s, type(s))"
   ]
  },
  {
   "cell_type": "code",
   "execution_count": 9,
   "id": "01644c48-1bbd-4fd9-b0ff-9d16f87d01a5",
   "metadata": {},
   "outputs": [
    {
     "name": "stdout",
     "output_type": "stream",
     "text": [
      "['apple' 'banana' 'cherry' 'pineapple'] <class 'numpy.ndarray'>\n",
      "0        apple\n",
      "1       banana\n",
      "2       cherry\n",
      "3    pineapple\n",
      "dtype: object\n",
      "<class 'pandas.core.series.Series'>\n",
      "apple pineapple\n"
     ]
    }
   ],
   "source": [
    "arr_data = np.array(['apple', 'banana', 'cherry', 'pineapple'])\n",
    "print (arr_data, type(arr_data))\n",
    "s = pd.Series(data = arr_data)\n",
    "print (s)\n",
    "print (type(s))\n",
    "print (s[0], s[3])"
   ]
  },
  {
   "cell_type": "code",
   "execution_count": 7,
   "id": "2db38854-af53-4162-9f4b-1a6bcf4168a6",
   "metadata": {},
   "outputs": [
    {
     "name": "stdout",
     "output_type": "stream",
     "text": [
      "[100 300 200 600 500] <class 'numpy.ndarray'>\n",
      "0    100\n",
      "1    300\n",
      "2    200\n",
      "3    600\n",
      "4    500\n",
      "dtype: int32 <class 'pandas.core.series.Series'>\n",
      "[999 300 888 600 500] <class 'numpy.ndarray'>\n",
      "0    999\n",
      "1    300\n",
      "2    888\n",
      "3    600\n",
      "4    500\n",
      "dtype: int32 <class 'pandas.core.series.Series'>\n"
     ]
    }
   ],
   "source": [
    "arr_data = np.array([100, 300, 200, 600, 500])\n",
    "s = pd.Series(arr_data, copy = False)\n",
    "print (arr_data, type(arr_data))\n",
    "print (s, type(s))\n",
    "s[0] = 999\n",
    "arr_data[2] = 888\n",
    "print (arr_data, type(arr_data))\n",
    "print (s, type(s))"
   ]
  },
  {
   "cell_type": "code",
   "execution_count": 8,
   "id": "64cf2441-130b-4d8d-826d-de5a8ce4fd91",
   "metadata": {},
   "outputs": [
    {
     "name": "stdout",
     "output_type": "stream",
     "text": [
      "[100 300 200 600 500] <class 'numpy.ndarray'>\n",
      "0    100\n",
      "1    300\n",
      "2    200\n",
      "3    600\n",
      "4    500\n",
      "dtype: int32 <class 'pandas.core.series.Series'>\n",
      "[100 300 888 600 500] <class 'numpy.ndarray'>\n",
      "0    999\n",
      "1    300\n",
      "2    200\n",
      "3    600\n",
      "4    500\n",
      "dtype: int32 <class 'pandas.core.series.Series'>\n"
     ]
    }
   ],
   "source": [
    "arr_data = np.array([100, 300, 200, 600, 500])\n",
    "s = pd.Series(arr_data, copy = True)\n",
    "print (arr_data, type(arr_data))\n",
    "print (s, type(s))\n",
    "s[0] = 999\n",
    "arr_data[2] = 888\n",
    "print (arr_data, type(arr_data))\n",
    "print (s, type(s))"
   ]
  },
  {
   "cell_type": "code",
   "execution_count": 15,
   "id": "7af1c76d-4947-4ccd-afae-4fc2a7d1e55d",
   "metadata": {},
   "outputs": [
    {
     "name": "stdout",
     "output_type": "stream",
     "text": [
      "['apple' 'banana' 'cherry' 'pineapple'] <class 'numpy.ndarray'>\n",
      "100        apple\n",
      "101       banana\n",
      "102       cherry\n",
      "103    pineapple\n",
      "dtype: object\n",
      "<class 'pandas.core.series.Series'>\n",
      "apple <class 'str'> pineapple <class 'str'>\n"
     ]
    }
   ],
   "source": [
    "arr_data = np.array(['apple', 'banana', 'cherry', 'pineapple'])\n",
    "print (arr_data, type(arr_data))\n",
    "s = pd.Series(data = arr_data, index = [100, 101, 102, 103])\n",
    "print (s)\n",
    "print (type(s))\n",
    "print (s[100], type(s[100]), s[103], type(s[103]))"
   ]
  },
  {
   "cell_type": "code",
   "execution_count": 14,
   "id": "314a54ec-59fe-41a3-9a46-0f6110ba0cf7",
   "metadata": {},
   "outputs": [
    {
     "name": "stdout",
     "output_type": "stream",
     "text": [
      "['apple' 'banana' 'cherry' 'pineapple'] <class 'numpy.ndarray'>\n",
      "100        apple\n",
      "103       banana\n",
      "100       cherry\n",
      "103    pineapple\n",
      "dtype: object\n",
      "<class 'pandas.core.series.Series'>\n",
      "100     apple\n",
      "100    cherry\n",
      "dtype: object\n",
      "103       banana\n",
      "103    pineapple\n",
      "dtype: object\n"
     ]
    }
   ],
   "source": [
    "arr_data = np.array(['apple', 'banana', 'cherry', 'pineapple'])\n",
    "print (arr_data, type(arr_data))\n",
    "s = pd.Series(data = arr_data, index = [100, 103, 100, 103])\n",
    "print (s)\n",
    "print (type(s))\n",
    "print (s[100])\n",
    "print (s[103])"
   ]
  },
  {
   "cell_type": "code",
   "execution_count": null,
   "id": "69f88560-6ba3-49dd-b1d5-5f11ab614cac",
   "metadata": {},
   "outputs": [],
   "source": []
  },
  {
   "cell_type": "code",
   "execution_count": null,
   "id": "983aa5b6-83ab-4a21-ab2b-a1555246786f",
   "metadata": {},
   "outputs": [],
   "source": []
  },
  {
   "cell_type": "markdown",
   "id": "c0e06606-c391-4098-ad1a-71612f6cd7b0",
   "metadata": {},
   "source": [
    "### Data Frame Data Structure:"
   ]
  },
  {
   "cell_type": "code",
   "execution_count": null,
   "id": "20cbc96a-fe77-49c6-8508-3d5ccdbeca5c",
   "metadata": {},
   "outputs": [],
   "source": []
  },
  {
   "cell_type": "code",
   "execution_count": null,
   "id": "01d4568d-a727-491b-857d-16956efcfb16",
   "metadata": {},
   "outputs": [],
   "source": []
  },
  {
   "cell_type": "code",
   "execution_count": null,
   "id": "350247a4-e12b-41d0-a934-603f8f4d3fdc",
   "metadata": {},
   "outputs": [],
   "source": []
  },
  {
   "cell_type": "code",
   "execution_count": null,
   "id": "b94ddf79-2128-41fc-97ce-deb1e158d2ce",
   "metadata": {},
   "outputs": [],
   "source": []
  },
  {
   "cell_type": "code",
   "execution_count": null,
   "id": "0ed0be31-ae6b-461a-98d0-efbdec7e4802",
   "metadata": {},
   "outputs": [],
   "source": []
  },
  {
   "cell_type": "code",
   "execution_count": null,
   "id": "6cc4139a-da4d-4530-a558-9b52d91d0021",
   "metadata": {},
   "outputs": [],
   "source": []
  },
  {
   "cell_type": "code",
   "execution_count": null,
   "id": "5d1d7b94-f926-448a-acf6-08a861ff927f",
   "metadata": {},
   "outputs": [],
   "source": []
  },
  {
   "cell_type": "code",
   "execution_count": null,
   "id": "e8d69af8-f275-45ed-ac41-d543954bf387",
   "metadata": {},
   "outputs": [],
   "source": []
  },
  {
   "cell_type": "code",
   "execution_count": null,
   "id": "38e38bc3-d3ff-40ef-9a77-fa07d80dfc8a",
   "metadata": {},
   "outputs": [],
   "source": []
  },
  {
   "cell_type": "code",
   "execution_count": null,
   "id": "6976bb8c-72d8-47ae-9a5a-382ea3e3f92d",
   "metadata": {},
   "outputs": [],
   "source": []
  },
  {
   "cell_type": "code",
   "execution_count": null,
   "id": "1d992d8e-853f-456c-ae12-721a6835d349",
   "metadata": {},
   "outputs": [],
   "source": []
  },
  {
   "cell_type": "code",
   "execution_count": null,
   "id": "bb9d3f6b-6bf8-4f49-8078-96976605b1b2",
   "metadata": {},
   "outputs": [],
   "source": []
  },
  {
   "cell_type": "code",
   "execution_count": null,
   "id": "abc29f86-51ea-41b6-8eb7-55cad9d534a2",
   "metadata": {},
   "outputs": [],
   "source": []
  },
  {
   "cell_type": "code",
   "execution_count": null,
   "id": "6f58acf1-6163-4da2-948f-b38512100680",
   "metadata": {},
   "outputs": [],
   "source": []
  },
  {
   "cell_type": "code",
   "execution_count": null,
   "id": "3402c8d4-d120-41fd-a338-71b3348d9ee1",
   "metadata": {},
   "outputs": [],
   "source": []
  },
  {
   "cell_type": "code",
   "execution_count": null,
   "id": "3d844f93-d551-4130-a3c5-510c47b92e92",
   "metadata": {},
   "outputs": [],
   "source": []
  },
  {
   "cell_type": "code",
   "execution_count": null,
   "id": "0dbbf275-0fa4-493f-a929-5af3e6a68f85",
   "metadata": {},
   "outputs": [],
   "source": []
  },
  {
   "cell_type": "code",
   "execution_count": null,
   "id": "f5947a46-75d0-4d81-89f5-f9834c4f3348",
   "metadata": {},
   "outputs": [],
   "source": []
  },
  {
   "cell_type": "code",
   "execution_count": null,
   "id": "edf19059-770a-45a5-9a29-99e846ba2ff6",
   "metadata": {},
   "outputs": [],
   "source": []
  }
 ],
 "metadata": {
  "kernelspec": {
   "display_name": "Python 3",
   "language": "python",
   "name": "python3"
  },
  "language_info": {
   "codemirror_mode": {
    "name": "ipython",
    "version": 3
   },
   "file_extension": ".py",
   "mimetype": "text/x-python",
   "name": "python",
   "nbconvert_exporter": "python",
   "pygments_lexer": "ipython3",
   "version": "3.8.8"
  }
 },
 "nbformat": 4,
 "nbformat_minor": 5
}
