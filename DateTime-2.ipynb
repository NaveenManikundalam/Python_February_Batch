{
 "cells": [
  {
   "cell_type": "markdown",
   "id": "aec49262-8638-4ae3-a5f6-05eede8d3f4f",
   "metadata": {},
   "source": [
    "## Python time Module"
   ]
  },
  {
   "cell_type": "markdown",
   "id": "58a2d619-4e8a-469c-b2f9-31f661830515",
   "metadata": {},
   "source": [
    "> In this article, we will explore time module in detail. We will learn to use different time-related functions defined in the time module with the help of examples.\n",
    "\n",
    "> Python has a module named time to handle time-related tasks. To use functions defined in the module, we need to import the module first."
   ]
  },
  {
   "cell_type": "markdown",
   "id": "79733650-77f9-4f5e-9512-474d251b56da",
   "metadata": {},
   "source": [
    "### Python time.time()\n",
    "> The time() function returns the number of seconds passed since epoch.\n",
    "\n",
    "> For Unix system, January 1, 1970, 00:00:00 at UTC is epoch (the point where time begins)."
   ]
  },
  {
   "cell_type": "code",
   "execution_count": 1,
   "id": "bc63d577-81ae-48bf-b955-8f22de24df0e",
   "metadata": {},
   "outputs": [
    {
     "name": "stdout",
     "output_type": "stream",
     "text": [
      "Seconds since epoch = 1651844796.1137583\n"
     ]
    }
   ],
   "source": [
    "import time\n",
    "seconds = time.time()\n",
    "print(\"Seconds since epoch =\", seconds)\t"
   ]
  },
  {
   "cell_type": "markdown",
   "id": "239084c1-8ef0-4c95-aac8-d589168c0155",
   "metadata": {},
   "source": [
    "### Python time.ctime()\n",
    "> The time.ctime() function takes seconds passed since epoch as an argument and returns a string representing local time."
   ]
  },
  {
   "cell_type": "code",
   "execution_count": 2,
   "id": "62320f6a-f1b6-4fcc-83b8-47456d9b5b24",
   "metadata": {},
   "outputs": [
    {
     "name": "stdout",
     "output_type": "stream",
     "text": [
      "Local time: Thu Dec 27 21:19:29 2018\n"
     ]
    }
   ],
   "source": [
    "import time\n",
    "\n",
    "# seconds passed since epoch\n",
    "seconds = 1545925769.9618232\n",
    "local_time = time.ctime(seconds)\n",
    "print(\"Local time:\", local_time)"
   ]
  },
  {
   "cell_type": "markdown",
   "id": "e0634d78-c7c1-40c9-ad2c-66e8afc7036d",
   "metadata": {},
   "source": [
    "### Python time.sleep()\n",
    "> The sleep() function suspends (delays) execution of the current thread for the given number of seconds."
   ]
  },
  {
   "cell_type": "code",
   "execution_count": 3,
   "id": "cee78f4b-6aa2-41e8-8fb7-6bbc9800a641",
   "metadata": {},
   "outputs": [
    {
     "name": "stdout",
     "output_type": "stream",
     "text": [
      "This is printed immediately.\n",
      "This is printed after 2.4 seconds.\n"
     ]
    }
   ],
   "source": [
    "import time\n",
    "\n",
    "print(\"This is printed immediately.\")\n",
    "time.sleep(2.4)\n",
    "print(\"This is printed after 2.4 seconds.\")"
   ]
  },
  {
   "cell_type": "markdown",
   "id": "4b8b5157-bb4e-4324-8c45-9158628f67b2",
   "metadata": {},
   "source": [
    "### time.struct_time Class\n",
    "> Several functions in the time module such as gmtime(), asctime() etc. either take time.struct_time object as an argument or return it."
   ]
  },
  {
   "cell_type": "markdown",
   "id": "f4778273-b156-4edf-8086-bf348f923331",
   "metadata": {},
   "source": [
    "**Here's an example of time.struct_time object.**\n",
    "\n",
    "<pre>time.struct_time(tm_year=2018, tm_mon=12, tm_mday=27, \n",
    "                 tm_hour=6, tm_min=35, tm_sec=17, \n",
    "                 tm_wday=3, tm_yday=361, tm_isdst=0)</pre>"
   ]
  },
  {
   "cell_type": "markdown",
   "id": "44bac603-a98e-4c1c-b7de-620f9822aa80",
   "metadata": {},
   "source": [
    "**Index\tAttribute\tValues**\n",
    "* 0\ttm_year\t0000, ...., 2018, ..., 9999\n",
    "* 1\ttm_mon\t1, 2, ..., 12\n",
    "* 2\ttm_mday\t1, 2, ..., 31\n",
    "* 3\ttm_hour\t0, 1, ..., 23\n",
    "* 4\ttm_min\t0, 1, ..., 59\n",
    "* 5\ttm_sec\t0, 1, ..., 61\n",
    "* 6\ttm_wday\t0, 1, ..., 6; Monday is 0\n",
    "* 7\ttm_yday\t1, 2, ..., 366\n",
    "* 8\ttm_isdst\t0, 1 or -1"
   ]
  },
  {
   "cell_type": "markdown",
   "id": "b5a1dc0f-8332-421e-bc32-996f7321f045",
   "metadata": {},
   "source": [
    "### Python time.localtime()\n",
    ">The localtime() function takes the number of seconds passed since epoch as an argument and returns struct_time in local time."
   ]
  },
  {
   "cell_type": "code",
   "execution_count": 4,
   "id": "ef4b5ec8-a199-448d-b6ea-f46c45cb2fa2",
   "metadata": {},
   "outputs": [
    {
     "name": "stdout",
     "output_type": "stream",
     "text": [
      "result: time.struct_time(tm_year=2018, tm_mon=12, tm_mday=27, tm_hour=21, tm_min=19, tm_sec=29, tm_wday=3, tm_yday=361, tm_isdst=0)\n",
      "\n",
      "year: 2018\n",
      "tm_hour: 21\n"
     ]
    }
   ],
   "source": [
    "import time\n",
    "\n",
    "result = time.localtime(1545925769)\n",
    "print(\"result:\", result)\n",
    "print(\"\\nyear:\", result.tm_year)\n",
    "print(\"tm_hour:\", result.tm_hour)"
   ]
  },
  {
   "cell_type": "markdown",
   "id": "42892f2c-b7e0-4991-ad8a-13fc8d3419d9",
   "metadata": {},
   "source": [
    "### Python time.gmtime()\n",
    "\n",
    "> The gmtime() function takes the number of seconds passed since epoch as an argument and returns struct_time in UTC (Coordinated Universal Time)."
   ]
  },
  {
   "cell_type": "code",
   "execution_count": 5,
   "id": "eecaca17-a375-42cd-95a3-a1fb38e4ae46",
   "metadata": {},
   "outputs": [
    {
     "name": "stdout",
     "output_type": "stream",
     "text": [
      "result: time.struct_time(tm_year=2018, tm_mon=12, tm_mday=27, tm_hour=15, tm_min=49, tm_sec=29, tm_wday=3, tm_yday=361, tm_isdst=0)\n",
      "\n",
      "year: 2018\n",
      "tm_hour: 15\n"
     ]
    }
   ],
   "source": [
    "import time\n",
    "\n",
    "result = time.gmtime(1545925769)\n",
    "print(\"result:\", result)\n",
    "print(\"\\nyear:\", result.tm_year)\n",
    "print(\"tm_hour:\", result.tm_hour)"
   ]
  },
  {
   "cell_type": "markdown",
   "id": "16dc7706-5948-4a93-bb27-784026d2b6a6",
   "metadata": {},
   "source": [
    "### Python time.mktime()\n",
    "> The mktime() function takes struct_time (or a tuple containing 9 elements corresponding to struct_time) as an argument and returns the seconds passed since epoch in local time. Basically, it's the inverse function of localtime()."
   ]
  },
  {
   "cell_type": "code",
   "execution_count": 6,
   "id": "d63cd25b-ecb4-46d8-87e3-d1c428244eba",
   "metadata": {},
   "outputs": [
    {
     "name": "stdout",
     "output_type": "stream",
     "text": [
      "Local time: 1545966844.0\n"
     ]
    }
   ],
   "source": [
    "import time\n",
    "\n",
    "t = (2018, 12, 28, 8, 44, 4, 4, 362, 0)\n",
    "\n",
    "local_time = time.mktime(t)\n",
    "print(\"Local time:\", local_time)"
   ]
  },
  {
   "cell_type": "code",
   "execution_count": 7,
   "id": "d1c0bc0f-3372-464e-afcc-31baff554749",
   "metadata": {},
   "outputs": [
    {
     "name": "stdout",
     "output_type": "stream",
     "text": [
      "t1:  time.struct_time(tm_year=2018, tm_mon=12, tm_mday=27, tm_hour=21, tm_min=19, tm_sec=29, tm_wday=3, tm_yday=361, tm_isdst=0)\n",
      "\\s: 1545925769\n"
     ]
    }
   ],
   "source": [
    "import time\n",
    "\n",
    "seconds = 1545925769\n",
    "\n",
    "# returns struct_time\n",
    "t = time.localtime(seconds)\n",
    "print(\"t1: \", t)\n",
    "\n",
    "# returns seconds from struct_time\n",
    "s = time.mktime(t)\n",
    "print(\"\\s:\", seconds)"
   ]
  },
  {
   "cell_type": "markdown",
   "id": "b99b011b-9224-4358-bc74-31158a36bd94",
   "metadata": {},
   "source": [
    "### Python time.asctime()\n",
    "> The asctime() function takes struct_time (or a tuple containing 9 elements corresponding to struct_time) as an argument and returns a string representing it."
   ]
  },
  {
   "cell_type": "code",
   "execution_count": 8,
   "id": "6ebbee6b-31b9-40fb-9262-a37a6def1b43",
   "metadata": {},
   "outputs": [
    {
     "name": "stdout",
     "output_type": "stream",
     "text": [
      "Result: Fri Dec 28 08:44:04 2018\n"
     ]
    }
   ],
   "source": [
    "import time\n",
    "\n",
    "t = (2018, 12, 28, 8, 44, 4, 4, 362, 0)\n",
    "\n",
    "result = time.asctime(t)\n",
    "print(\"Result:\", result)"
   ]
  },
  {
   "cell_type": "markdown",
   "id": "e9ecaf9e-7657-4861-96e3-be35fd0ae462",
   "metadata": {},
   "source": [
    "### Python time.strftime()\n",
    "> The strftime() function takes struct_time (or tuple corresponding to it) as an argument and returns a string representing it based on the format code used. For example,"
   ]
  },
  {
   "cell_type": "code",
   "execution_count": 9,
   "id": "dfbf1730-80f1-49bb-adea-fbcee83530e5",
   "metadata": {},
   "outputs": [
    {
     "name": "stdout",
     "output_type": "stream",
     "text": [
      "05/06/2022, 19:24:22\n"
     ]
    }
   ],
   "source": [
    "import time\n",
    "\n",
    "named_tuple = time.localtime() # get struct_time\n",
    "time_string = time.strftime(\"%m/%d/%Y, %H:%M:%S\", named_tuple)\n",
    "\n",
    "print(time_string)"
   ]
  },
  {
   "cell_type": "markdown",
   "id": "6b26e95b-ad9d-4caa-a31e-a849a4b06b34",
   "metadata": {},
   "source": [
    "**Here, %Y, %m, %d, %H etc. are format codes.**\n",
    "\n",
    "* %Y - year [0001,..., 2018, 2019,..., 9999]\n",
    "* %m - month [01, 02, ..., 11, 12]\n",
    "* %d - day [01, 02, ..., 30, 31]\n",
    "* %H - hour [00, 01, ..., 22, 23\n",
    "* %M - minutes [00, 01, ..., 58, 59]\n",
    "* %S - second [00, 01, ..., 58, 61]"
   ]
  },
  {
   "cell_type": "markdown",
   "id": "c517809b-8e54-4942-bbc1-b3e424a80b32",
   "metadata": {},
   "source": [
    "### Python time.strptime()\n",
    "> The strptime() function parses a string representing time and returns struct_time."
   ]
  },
  {
   "cell_type": "code",
   "execution_count": 10,
   "id": "6bd6a0e8-d8e1-469a-8867-33cca03577c2",
   "metadata": {},
   "outputs": [
    {
     "name": "stdout",
     "output_type": "stream",
     "text": [
      "time.struct_time(tm_year=2018, tm_mon=6, tm_mday=21, tm_hour=0, tm_min=0, tm_sec=0, tm_wday=3, tm_yday=172, tm_isdst=-1)\n"
     ]
    }
   ],
   "source": [
    "import time\n",
    "\n",
    "time_string = \"21 June, 2018\"\n",
    "result = time.strptime(time_string, \"%d %B, %Y\")\n",
    "\n",
    "print(result)"
   ]
  },
  {
   "cell_type": "code",
   "execution_count": null,
   "id": "22bfa4bb-22fb-4f72-9fd5-3844f3b74936",
   "metadata": {},
   "outputs": [],
   "source": []
  }
 ],
 "metadata": {
  "kernelspec": {
   "display_name": "Python 3",
   "language": "python",
   "name": "python3"
  },
  "language_info": {
   "codemirror_mode": {
    "name": "ipython",
    "version": 3
   },
   "file_extension": ".py",
   "mimetype": "text/x-python",
   "name": "python",
   "nbconvert_exporter": "python",
   "pygments_lexer": "ipython3",
   "version": "3.8.8"
  }
 },
 "nbformat": 4,
 "nbformat_minor": 5
}
