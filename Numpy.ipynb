{
 "cells": [
  {
   "cell_type": "markdown",
   "id": "e157548f-c734-4fc4-bc6f-313daa2d19dd",
   "metadata": {},
   "source": [
    "### NUMPY: ARRAYS AND MATRICES"
   ]
  },
  {
   "cell_type": "markdown",
   "id": "d11ba0c9-646e-418b-8ef5-ffff9b536835",
   "metadata": {},
   "source": [
    "> NumPy is an extension to the Python programming language, adding support for large, multi-dimensional (numerical) arrays and matrics, along with a libray of high-level mathematical functions to operate on these arrays. "
   ]
  },
  {
   "cell_type": "code",
   "execution_count": 1,
   "id": "b8bb0cf7-7c03-4ea8-b7fb-58fc3c151961",
   "metadata": {},
   "outputs": [],
   "source": [
    "# importing required modules\n",
    "import numpy as np"
   ]
  },
  {
   "cell_type": "markdown",
   "id": "ef1d802f-cb4a-40e2-833d-5c0580511bbc",
   "metadata": {},
   "source": [
    "### Create arrays"
   ]
  },
  {
   "cell_type": "code",
   "execution_count": 23,
   "id": "b0232139-7405-4d21-95f6-842463610138",
   "metadata": {},
   "outputs": [
    {
     "name": "stdout",
     "output_type": "stream",
     "text": [
      "[11, 33, 22, 55, 44, 66] 6 <class 'list'> 2911153787648\n",
      "[11 33 22 55 44 66] 6 <class 'numpy.ndarray'> 2911143716976\n",
      "(6,) <class 'tuple'>\n",
      "[11, 33, 22, 55, 44, 66] 6 <class 'list'> 2911149761280\n"
     ]
    }
   ],
   "source": [
    "# create ndarrays from lists\n",
    "data1 = [11, 33, 22, 55, 44, 66]\n",
    "print (data1, len(data1), type(data1), id(data1))\n",
    "arr1 = np.array(data1)\n",
    "print (arr1, len(arr1), type(arr1), id(arr1))\n",
    "print (arr1.shape, type(arr1.shape))\n",
    "result = arr1.tolist()\n",
    "print (result, len(result), type(result), id(result))"
   ]
  },
  {
   "cell_type": "code",
   "execution_count": 24,
   "id": "2793c688-d4fd-4de8-ab07-645a328e6afb",
   "metadata": {},
   "outputs": [
    {
     "name": "stdout",
     "output_type": "stream",
     "text": [
      "(11, 33, 22, 55, 44, 66) 6 <class 'tuple'> 2911146678208\n",
      "[11 33 22 55 44 66] 6 <class 'numpy.ndarray'> 2911146677424\n",
      "(6,) <class 'tuple'>\n"
     ]
    }
   ],
   "source": [
    "# create ndarrays from tuples\n",
    "data1 = (11, 33, 22, 55, 44, 66)\n",
    "print (data1, len(data1), type(data1), id(data1))\n",
    "arr1 = np.array(data1)\n",
    "print (arr1, len(arr1), type(arr1), id(arr1))\n",
    "print (arr1.shape, type(arr1.shape))"
   ]
  },
  {
   "cell_type": "code",
   "execution_count": 25,
   "id": "8bba6e79-22c9-476a-8f6f-e37cfdd333e7",
   "metadata": {},
   "outputs": [
    {
     "name": "stdout",
     "output_type": "stream",
     "text": [
      "[[11, 33, 22, 55, 44, 66], [100, 200, 300, 400, 500, 700]] 2 <class 'list'> 2911151317248\n",
      "[[ 11  33  22  55  44  66]\n",
      " [100 200 300 400 500 700]] 2 <class 'numpy.ndarray'> 2911146678576\n",
      "(2, 6) <class 'tuple'>\n",
      "[[11, 33, 22, 55, 44, 66], [100, 200, 300, 400, 500, 700]] 2 <class 'list'> 2911153756800\n"
     ]
    }
   ],
   "source": [
    "# create ndarrays from lists\n",
    "data2 = [[11, 33, 22, 55, 44, 66], [100, 200, 300, 400, 500, 700]]\n",
    "print (data2, len(data2), type(data2), id(data2))\n",
    "arr2 = np.array(data2)\n",
    "print (arr2, len(arr2), type(arr2), id(arr2))\n",
    "print (arr2.shape, type(arr2.shape))\n",
    "result = arr2.tolist()\n",
    "print (result, len(result), type(result), id(result))"
   ]
  },
  {
   "cell_type": "code",
   "execution_count": 26,
   "id": "84269d7d-8af3-4475-863e-32f8dbe74ad6",
   "metadata": {},
   "outputs": [
    {
     "name": "stdout",
     "output_type": "stream",
     "text": [
      "[range(1, 5), range(11, 15)] 2 <class 'list'> 2911151845056\n",
      "[[ 1  2  3  4]\n",
      " [11 12 13 14]] 2 <class 'numpy.ndarray'> 2911153911632\n",
      "(2, 4) <class 'tuple'>\n",
      "[[1, 2, 3, 4], [11, 12, 13, 14]] 2 <class 'list'> 2911151105984\n"
     ]
    }
   ],
   "source": [
    "# create ndarrays from lists\n",
    "data2 = [range(1, 5), range(11, 15)]\n",
    "print (data2, len(data2), type(data2), id(data2))\n",
    "arr2 = np.array(data2)\n",
    "print (arr2, len(arr2), type(arr2), id(arr2))\n",
    "print (arr2.shape, type(arr2.shape))\n",
    "result = arr2.tolist()\n",
    "print (result, len(result), type(result), id(result))"
   ]
  },
  {
   "cell_type": "code",
   "execution_count": 35,
   "id": "349c9c13-d35a-4e09-a58b-f6315ad99974",
   "metadata": {},
   "outputs": [
    {
     "name": "stdout",
     "output_type": "stream",
     "text": [
      "[11, True, 33, False, 22, 55, 44, 66] 8 <class 'list'> 2911151277824\n",
      "[11  1 33  0 22 55 44 66] 8 <class 'numpy.ndarray'> 2911152022896 int32\n",
      "\n",
      "[11, True, 33, False, 22, '55', 44, 66] 8 <class 'list'> 2911150934400\n",
      "['11' 'True' '33' 'False' '22' '55' '44' '66'] 8 <class 'numpy.ndarray'> 2911143716304 <U11\n",
      "\n",
      "[11, True, 33, False, 22, 55, 44.0, 66] 8 <class 'list'> 2911142055744\n",
      "[11.  1. 33.  0. 22. 55. 44. 66.] 8 <class 'numpy.ndarray'> 2911152022896 float64\n",
      "\n",
      "[11, True, 33, False, 22, '55', 44.0, 66] 8 <class 'list'> 2911149997248\n",
      "['11' 'True' '33' 'False' '22' '55' '44.0' '66'] 8 <class 'numpy.ndarray'> 2911143717840 <U32\n"
     ]
    }
   ],
   "source": [
    "# create ndarrays from lists\n",
    "data1 = [11, True, 33, False, 22, 55, 44, 66]\n",
    "print (data1, len(data1), type(data1), id(data1))\n",
    "arr1 = np.array(data1)\n",
    "print (arr1, len(arr1), type(arr1), id(arr1), arr1.dtype)\n",
    "print ()\n",
    "data1 = [11, True, 33, False, 22, '55', 44, 66]\n",
    "print (data1, len(data1), type(data1), id(data1))\n",
    "arr1 = np.array(data1)\n",
    "print (arr1, len(arr1), type(arr1), id(arr1), arr1.dtype)\n",
    "print ()\n",
    "data1 = [11, True, 33, False, 22, 55, 44.0, 66]\n",
    "print (data1, len(data1), type(data1), id(data1))\n",
    "arr1 = np.array(data1)\n",
    "print (arr1, len(arr1), type(arr1), id(arr1), arr1.dtype)\n",
    "print ()\n",
    "data1 = [11, True, 33, False, 22, '55', 44.0, 66]\n",
    "print (data1, len(data1), type(data1), id(data1))\n",
    "arr1 = np.array(data1)\n",
    "print (arr1, len(arr1), type(arr1), id(arr1), arr1.dtype)"
   ]
  },
  {
   "cell_type": "code",
   "execution_count": 42,
   "id": "e024708a-b416-4994-a68f-a84a33a027e8",
   "metadata": {},
   "outputs": [
    {
     "name": "stdout",
     "output_type": "stream",
     "text": [
      "[11 33 22 55 44 66] (6,)\n",
      "[[ 1  2  3  4]\n",
      " [11 12 13 14]] (2, 4)\n",
      "int32 int32\n",
      "(6,) (2, 4)\n",
      "1 2\n",
      "6 8\n",
      "6 2\n"
     ]
    }
   ],
   "source": [
    "# exmining arrays\n",
    "data1 = [11, 33, 22, 55, 44, 66]\n",
    "arr1 = np.array(data1)\n",
    "print (arr1, arr1.shape)\n",
    "print (arr2, arr2.shape)\n",
    "print (arr1.dtype, arr2.dtype)\n",
    "print (arr1.shape, arr2.shape)\n",
    "print (arr1.ndim, arr2.ndim)\n",
    "print (arr1.size, arr2.size)    # returns the number of data items\n",
    "print (len(arr1), len(arr2))    # returns the first dimension"
   ]
  },
  {
   "cell_type": "markdown",
   "id": "15a2a176-e79e-4571-8297-314198fdda18",
   "metadata": {},
   "source": [
    "### Create Special Arrays"
   ]
  },
  {
   "cell_type": "code",
   "execution_count": 52,
   "id": "b54d4bfd-2b16-4aaa-adf8-f2657f24b750",
   "metadata": {},
   "outputs": [
    {
     "name": "stdout",
     "output_type": "stream",
     "text": [
      "[0. 0. 0. 0. 0. 0. 0. 0. 0. 0.] 10 10 1 (10,) <class 'numpy.ndarray'> 2911156382384\n",
      "[0 0 0 0 0 0 0 0 0 0] 10 10 1 (10,) <class 'numpy.ndarray'> 2911147704368\n",
      "[0 0 0 0 0 0 0 0 0 0] 10 10 1 (10,) <class 'numpy.ndarray'> 2911147704944\n",
      "[0 0 0 0 0 0 0 0 0 0] 10 10 1 (10,) <class 'numpy.ndarray'> 2911156382384\n",
      "[0 0 0 0 0 0 0 0 0 0] 10 10 1 (10,) <class 'numpy.ndarray'> 2911147705040\n",
      "[[0. 0. 0. 0. 0.]\n",
      " [0. 0. 0. 0. 0.]] 2 10 2 (2, 5) <class 'numpy.ndarray'> 2911156382384\n",
      "[[0 0 0 0 0]\n",
      " [0 0 0 0 0]] 2 10 2 (2, 5) <class 'numpy.ndarray'> 2911156382288\n",
      "[[0 0 0 0 0]\n",
      " [0 0 0 0 0]] 2 10 2 (2, 5) <class 'numpy.ndarray'> 2911147704944\n"
     ]
    }
   ],
   "source": [
    "arr1 = np.zeros(10)\n",
    "print (arr1, len(arr1), arr1.size, arr1.ndim, arr1.shape, type(arr1), id(arr1))\n",
    "arr1 = np.zeros(10, dtype = 'int')\n",
    "print (arr1, len(arr1), arr1.size, arr1.ndim, arr1.shape, type(arr1), id(arr1))\n",
    "arr1 = np.zeros(10, dtype = int)\n",
    "print (arr1, len(arr1), arr1.size, arr1.ndim, arr1.shape, type(arr1), id(arr1))\n",
    "arr1 = np.zeros(10).astype('int')\n",
    "print (arr1, len(arr1), arr1.size, arr1.ndim, arr1.shape, type(arr1), id(arr1))\n",
    "arr1 = np.zeros(10).astype(int)\n",
    "print (arr1, len(arr1), arr1.size, arr1.ndim, arr1.shape, type(arr1), id(arr1))\n",
    "arr1 = np.zeros(10).reshape(2, 5)\n",
    "print (arr1, len(arr1), arr1.size, arr1.ndim, arr1.shape, type(arr1), id(arr1))\n",
    "arr1 = np.zeros(10).reshape(2, 5).astype(int)\n",
    "print (arr1, len(arr1), arr1.size, arr1.ndim, arr1.shape, type(arr1), id(arr1))\n",
    "arr1 = np.zeros(10).astype(int).reshape(2, 5)\n",
    "print (arr1, len(arr1), arr1.size, arr1.ndim, arr1.shape, type(arr1), id(arr1))"
   ]
  },
  {
   "cell_type": "code",
   "execution_count": 53,
   "id": "8d5655e2-37c9-4b49-9bc7-96c23a9f39d5",
   "metadata": {},
   "outputs": [
    {
     "name": "stdout",
     "output_type": "stream",
     "text": [
      "[1. 1. 1. 1. 1. 1. 1. 1. 1. 1.] 10 10 1 (10,) <class 'numpy.ndarray'> 2911156383248\n",
      "[1 1 1 1 1 1 1 1 1 1] 10 10 1 (10,) <class 'numpy.ndarray'> 2911147704944\n",
      "[1 1 1 1 1 1 1 1 1 1] 10 10 1 (10,) <class 'numpy.ndarray'> 2911147705040\n",
      "[1 1 1 1 1 1 1 1 1 1] 10 10 1 (10,) <class 'numpy.ndarray'> 2911159970960\n",
      "[1 1 1 1 1 1 1 1 1 1] 10 10 1 (10,) <class 'numpy.ndarray'> 2911147704944\n",
      "[[1. 1. 1. 1. 1.]\n",
      " [1. 1. 1. 1. 1.]] 2 10 2 (2, 5) <class 'numpy.ndarray'> 2911147705040\n",
      "[[1 1 1 1 1]\n",
      " [1 1 1 1 1]] 2 10 2 (2, 5) <class 'numpy.ndarray'> 2911156383440\n",
      "[[1 1 1 1 1]\n",
      " [1 1 1 1 1]] 2 10 2 (2, 5) <class 'numpy.ndarray'> 2911159970960\n"
     ]
    }
   ],
   "source": [
    "arr1 = np.ones(10)\n",
    "print (arr1, len(arr1), arr1.size, arr1.ndim, arr1.shape, type(arr1), id(arr1))\n",
    "arr1 = np.ones(10, dtype = 'int')\n",
    "print (arr1, len(arr1), arr1.size, arr1.ndim, arr1.shape, type(arr1), id(arr1))\n",
    "arr1 = np.ones(10, dtype = int)\n",
    "print (arr1, len(arr1), arr1.size, arr1.ndim, arr1.shape, type(arr1), id(arr1))\n",
    "arr1 = np.ones(10).astype('int')\n",
    "print (arr1, len(arr1), arr1.size, arr1.ndim, arr1.shape, type(arr1), id(arr1))\n",
    "arr1 = np.ones(10).astype(int)\n",
    "print (arr1, len(arr1), arr1.size, arr1.ndim, arr1.shape, type(arr1), id(arr1))\n",
    "arr1 = np.ones(10).reshape(2, 5)\n",
    "print (arr1, len(arr1), arr1.size, arr1.ndim, arr1.shape, type(arr1), id(arr1))\n",
    "arr1 = np.ones(10).reshape(2, 5).astype(int)\n",
    "print (arr1, len(arr1), arr1.size, arr1.ndim, arr1.shape, type(arr1), id(arr1))\n",
    "arr1 = np.ones(10).astype(int).reshape(2, 5)\n",
    "print (arr1, len(arr1), arr1.size, arr1.ndim, arr1.shape, type(arr1), id(arr1))"
   ]
  },
  {
   "cell_type": "code",
   "execution_count": 56,
   "id": "e1d43102-7ee8-4ecd-9c1a-58c66fffbb47",
   "metadata": {},
   "outputs": [
    {
     "name": "stdout",
     "output_type": "stream",
     "text": [
      "[5. 5. 5. 5. 5. 5. 5. 5. 5. 5.] 10 10 1 (10,) <class 'numpy.ndarray'> 2911148477296\n",
      "[5. 5. 5. 5. 5. 5. 5. 5. 5. 5.] 10 10 1 (10,) <class 'numpy.ndarray'> 2911156383632\n"
     ]
    }
   ],
   "source": [
    "arr1 = np.zeros(10) + 5    # vector + scalar\n",
    "print (arr1, len(arr1), arr1.size, arr1.ndim, arr1.shape, type(arr1), id(arr1))\n",
    "arr1 = np.ones(10) * 5    # vector * scalar\n",
    "print (arr1, len(arr1), arr1.size, arr1.ndim, arr1.shape, type(arr1), id(arr1))"
   ]
  },
  {
   "cell_type": "code",
   "execution_count": 59,
   "id": "1e2bd61f-233e-4e8b-ba33-affb02ee45d3",
   "metadata": {},
   "outputs": [
    {
     "name": "stdout",
     "output_type": "stream",
     "text": [
      "[0.   0.25 0.5  0.75 1.  ] 5 5 1 (5,) <class 'numpy.ndarray'> 2911156383344\n",
      "[ 0  1  2  3  4  5  6  7  8  9 10] 11 11 1 (11,) <class 'numpy.ndarray'> 2911156382480\n",
      "[ 0  1  2  3  4  5  6  7  8  9 10] 11 11 1 (11,) <class 'numpy.ndarray'> 2911156382288\n"
     ]
    }
   ],
   "source": [
    "arr1 = np.linspace(0, 1, 5)\n",
    "print (arr1, len(arr1), arr1.size, arr1.ndim, arr1.shape, type(arr1), id(arr1))\n",
    "arr1 = np.linspace(0, 10, 11, dtype = 'int')\n",
    "print (arr1, len(arr1), arr1.size, arr1.ndim, arr1.shape, type(arr1), id(arr1))\n",
    "arr1 = np.linspace(0, 10, 11, dtype = int)\n",
    "print (arr1, len(arr1), arr1.size, arr1.ndim, arr1.shape, type(arr1), id(arr1))"
   ]
  },
  {
   "cell_type": "code",
   "execution_count": 62,
   "id": "38c9aaaa-3f55-47d7-8a60-68687c6687c7",
   "metadata": {},
   "outputs": [
    {
     "name": "stdout",
     "output_type": "stream",
     "text": [
      "[   1.   10.  100. 1000.] 4 4 1 (4,) <class 'numpy.ndarray'> 2911148670768\n",
      "[1 2 4 8] 4 4 1 (4,) <class 'numpy.ndarray'> 2911148669808\n",
      "[ 1  4 16 64] 4 4 1 (4,) <class 'numpy.ndarray'> 2911148670768\n"
     ]
    }
   ],
   "source": [
    "arr1 = np.logspace(0, 3, 4)\n",
    "print (arr1, len(arr1), arr1.size, arr1.ndim, arr1.shape, type(arr1), id(arr1))\n",
    "arr1 = np.logspace(0, 3, 4, base = 2, dtype = 'int')\n",
    "print (arr1, len(arr1), arr1.size, arr1.ndim, arr1.shape, type(arr1), id(arr1))\n",
    "arr1 = np.logspace(0, 3, 4, base = 4, dtype = int)\n",
    "print (arr1, len(arr1), arr1.size, arr1.ndim, arr1.shape, type(arr1), id(arr1))"
   ]
  },
  {
   "cell_type": "code",
   "execution_count": 67,
   "id": "4c6a2d89-3011-4320-988c-8a3f2393bac2",
   "metadata": {},
   "outputs": [
    {
     "name": "stdout",
     "output_type": "stream",
     "text": [
      "[[0, 0, 0, 0], [0, 0, 0, 0], [0, 0, 0, 0], [0, 0, 0, 0], [0, 0, 0, 0]]\n",
      "[[0, 0, 0, 0], [0, 0, 0, 0], [0, 0, 0, 0], [0, 0, 0, 0], [0, 0, 0, 0]]\n",
      "[[0, 0, 0, 0, 0], [0, 0, 0, 0, 0], [0, 0, 0, 0, 0], [0, 0, 0, 0, 0]]\n"
     ]
    }
   ],
   "source": [
    "print (np.zeros(20).reshape(5, 4).astype(int).tolist())\n",
    "print (np.zeros(20).astype(int).reshape(5, 4).tolist())\n",
    "print (np.zeros(20).astype(int).reshape(4, 5).tolist())"
   ]
  },
  {
   "cell_type": "markdown",
   "id": "bb8c1981-e9c6-4cbd-8c00-105f7316477a",
   "metadata": {},
   "source": [
    "### Indexing and Slicing"
   ]
  },
  {
   "cell_type": "code",
   "execution_count": 75,
   "id": "2f2d1a6b-9706-4dee-a39f-ad81b4b774ed",
   "metadata": {},
   "outputs": [
    {
     "name": "stdout",
     "output_type": "stream",
     "text": [
      "[11 33 22 55 44 66]\n",
      "55 55 33 33\n",
      "[55 44 66] [55 44 66] [11 33 22 55] [11 33 22 55]\n"
     ]
    }
   ],
   "source": [
    "data1 = [11, 33, 22, 55, 44, 66]\n",
    "arr1 = np.array(data1)\n",
    "print (arr1)\n",
    "print (arr1[3], arr1[-3], arr1[1], arr1[-5])    # indexing\n",
    "print (arr1[3:], arr1[-3:], arr1[:4], arr1[:-2])    # slicing"
   ]
  },
  {
   "cell_type": "code",
   "execution_count": 88,
   "id": "b7fdd012-0f2d-4bf3-8d2c-e9fa27e069f1",
   "metadata": {},
   "outputs": [
    {
     "name": "stdout",
     "output_type": "stream",
     "text": [
      "[[11 33 22 55]\n",
      " [44 66 88 99]\n",
      " [77 25 32 67]\n",
      " [44 66 34 45]]\n",
      "88 88 88 88\n",
      "[[44 66 88 99]\n",
      " [77 25 32 67]]\n",
      "[[33 22]\n",
      " [66 88]\n",
      " [25 32]\n",
      " [66 34]]\n",
      "[[66 88]\n",
      " [25 32]]\n",
      "[[66 88]\n",
      " [25 32]]\n"
     ]
    }
   ],
   "source": [
    "data1 = [11, 33, 22, 55, 44, 66, 88, 99, 77, 25, 32, 67, 44, 66, 34, 45]\n",
    "arr2 = np.array(data1).reshape(4, 4)\n",
    "print (arr2)\n",
    "print (arr2[1][2], arr2[-3][-2], arr2[1, 2], arr2[-3, -2])    # indexing\n",
    "print (arr2[1:3, :])    # slicing\n",
    "print (arr2[:, 1:3])\n",
    "print (arr2[1:3, 1:3])\n",
    "print (arr2[-3:-1, -3:-1])"
   ]
  },
  {
   "cell_type": "markdown",
   "id": "90db8958-61fb-4d58-8267-bfec583a9023",
   "metadata": {},
   "source": [
    "### Views and Copies"
   ]
  },
  {
   "cell_type": "code",
   "execution_count": 91,
   "id": "0e4a8a0f-09a6-4350-b675-0c739fe06604",
   "metadata": {},
   "outputs": [
    {
     "name": "stdout",
     "output_type": "stream",
     "text": [
      "[11 33 22 55 44 66]\n",
      "[ 11  33 100 100 100  66]\n"
     ]
    }
   ],
   "source": [
    "data1 = [11, 33, 22, 55, 44, 66]\n",
    "arr1 = np.array(data1)\n",
    "print (arr1)\n",
    "arr1[2:5] = 100\n",
    "print (arr1)"
   ]
  },
  {
   "cell_type": "code",
   "execution_count": 94,
   "id": "ba956b30-3738-426e-aff7-ee1c3215805b",
   "metadata": {},
   "outputs": [
    {
     "name": "stdout",
     "output_type": "stream",
     "text": [
      "[11 33 22 55 44 66]\n",
      "[22 55 44]\n",
      "[ 11  33 999 999 999  66]\n",
      "[999 999 999]\n",
      "[ 11  33 777 777 777  66]\n",
      "[777 777 777]\n"
     ]
    }
   ],
   "source": [
    "data1 = [11, 33, 22, 55, 44, 66]\n",
    "arr1 = np.array(data1)\n",
    "print (arr1)\n",
    "arr_view = arr1[2:5]\n",
    "print (arr_view)\n",
    "arr_view[:] = 999\n",
    "print (arr1)\n",
    "print (arr_view)\n",
    "arr1[2:5] = 777\n",
    "print (arr1)\n",
    "print (arr_view)"
   ]
  },
  {
   "cell_type": "code",
   "execution_count": 96,
   "id": "1d92a3b7-ba67-438f-b0e5-3d62e92a57ef",
   "metadata": {},
   "outputs": [
    {
     "name": "stdout",
     "output_type": "stream",
     "text": [
      "[11 33 22 55 44 66]\n",
      "[22 55 44]\n",
      "[11 33 22 55 44 66]\n",
      "[999 999 999]\n",
      "[ 11  33 777 777 777  66]\n",
      "[999 999 999]\n"
     ]
    }
   ],
   "source": [
    "data1 = [11, 33, 22, 55, 44, 66]\n",
    "arr1 = np.array(data1)\n",
    "print (arr1)\n",
    "arr_copy = arr1[2:5].copy()\n",
    "print (arr_copy)\n",
    "arr_copy[:] = 999\n",
    "print (arr1)\n",
    "print (arr_copy)\n",
    "arr1[2:5] = 777\n",
    "print (arr1)\n",
    "print (arr_copy)"
   ]
  },
  {
   "cell_type": "markdown",
   "id": "611c6ecd-544d-4c11-9b48-1c99453dc8d9",
   "metadata": {},
   "source": [
    "### Boolean Arrays"
   ]
  },
  {
   "cell_type": "code",
   "execution_count": 103,
   "id": "ed1bdd71-d46f-4214-aed2-93803eb94462",
   "metadata": {},
   "outputs": [
    {
     "name": "stdout",
     "output_type": "stream",
     "text": [
      "[False  True  True False False False False  True  True False]\n",
      "[99 88 66 77]\n",
      "[ True False False  True  True  True  True False False  True]\n",
      "[11 33 22 55 44 45]\n",
      "[11 33 22 55 44 45]\n"
     ]
    }
   ],
   "source": [
    "data1 = [11, 99, 88, 33, 22, 55, 44, 66, 77, 45]\n",
    "arr1 = np.array(data1)\n",
    "print (arr1 > 55)\n",
    "print (arr1[arr1 > 55])\n",
    "print (~(arr1 > 55))    # negation with ~ operator\n",
    "print (arr1[~(arr1 > 55)])\n",
    "print (arr1[arr1 <= 55])"
   ]
  },
  {
   "cell_type": "code",
   "execution_count": 110,
   "id": "17e05572-7cb3-47db-aebb-ef5e93745714",
   "metadata": {},
   "outputs": [
    {
     "name": "stdout",
     "output_type": "stream",
     "text": [
      "[11 99 88 30 22 55 44 66 77 45]\n",
      "[False False False  True False False False  True False False]\n",
      "[30 66]\n",
      "[False False False  True False False False  True False False]\n",
      "[30 66]\n",
      "[False  True  True  True  True False  True  True False  True]\n",
      "[99 88 30 22 44 66 45]\n"
     ]
    }
   ],
   "source": [
    "data1 = [11, 99, 88, 30, 22, 55, 44, 66, 77, 45]\n",
    "arr1 = np.array(data1)\n",
    "print (arr1)\n",
    "print (arr1 % 6 == 0)\n",
    "print (arr1[arr1 % 6 == 0])\n",
    "print ((arr1 % 2 == 0) & (arr1 % 3 == 0))\n",
    "print (arr1[(arr1 % 2 == 0) & (arr1 % 3 == 0)])\n",
    "print ((arr1 % 2 == 0) | (arr1 % 3 == 0))\n",
    "print (arr1[(arr1 % 2 == 0) | (arr1 % 3 == 0)])"
   ]
  },
  {
   "cell_type": "code",
   "execution_count": 114,
   "id": "cca48ece-7e46-45bd-bdba-dc1f10961c99",
   "metadata": {},
   "outputs": [
    {
     "name": "stdout",
     "output_type": "stream",
     "text": [
      "[22 55 44 30 22 55 44 66 22 55]\n",
      "[22 30 44 55 66]\n"
     ]
    }
   ],
   "source": [
    "data1 = [22, 55, 44, 30, 22, 55, 44, 66, 22, 55]\n",
    "arr1 = np.array(data1)\n",
    "print (arr1)\n",
    "print (np.unique(arr1))"
   ]
  },
  {
   "cell_type": "code",
   "execution_count": 121,
   "id": "06274109-260e-4e54-8e85-585a23037181",
   "metadata": {},
   "outputs": [
    {
     "name": "stdout",
     "output_type": "stream",
     "text": [
      "['bob' 'paul' 'jim' 'paul' 'bob' 'tim' 'bob']\n",
      "[ True False False False  True False  True]\n",
      "['bob' 'bob' 'bob']\n",
      "[False  True  True  True False  True False]\n",
      "['paul' 'jim' 'paul' 'tim']\n",
      "['pat' 'paul' 'jim' 'paul' 'pat' 'tim' 'pat']\n",
      "['jim' 'pat' 'paul' 'tim']\n"
     ]
    }
   ],
   "source": [
    "data1 = ['bob', 'paul', 'jim', 'paul', 'bob', 'tim', 'bob']\n",
    "arr1 = np.array(data1)\n",
    "print (arr1)\n",
    "print (arr1 == 'bob')\n",
    "print (arr1[arr1 == 'bob'])\n",
    "print (~(arr1 == 'bob'))\n",
    "print (arr1[~(arr1 == 'bob')])\n",
    "arr1[arr1 == 'bob'] = 'pat'\n",
    "print (arr1)\n",
    "print (np.unique(arr1))"
   ]
  },
  {
   "cell_type": "code",
   "execution_count": 122,
   "id": "da014b6b-8973-4174-817c-bc7bed27b6cb",
   "metadata": {},
   "outputs": [
    {
     "name": "stdout",
     "output_type": "stream",
     "text": [
      "[0.0, 0.0, 0.0, 0.0, 0.0, 0.0, 0.0, 0.0, 0.0, 0.0, 0.0, 0.0, 0.0, 0.0, 0.0, 0.0, 0.0, 0.0, 0.0, 0.0] <class 'list'>\n"
     ]
    }
   ],
   "source": [
    "list1 = np.zeros(20).tolist()\n",
    "print (list1, type(list1))"
   ]
  },
  {
   "cell_type": "markdown",
   "id": "9f4c5b30-bc75-4012-9263-bc22ed5a86f6",
   "metadata": {},
   "source": [
    "### Vectorized Operations"
   ]
  },
  {
   "cell_type": "code",
   "execution_count": null,
   "id": "0fed7a10-ba91-43c5-846c-28754a9c64df",
   "metadata": {},
   "outputs": [],
   "source": []
  },
  {
   "cell_type": "code",
   "execution_count": null,
   "id": "843b65a0-15cd-4ec2-a929-8bab9d663369",
   "metadata": {},
   "outputs": [],
   "source": []
  },
  {
   "cell_type": "code",
   "execution_count": null,
   "id": "05607e6d-89f9-4d5f-b946-3909c390167a",
   "metadata": {},
   "outputs": [],
   "source": []
  },
  {
   "cell_type": "code",
   "execution_count": null,
   "id": "eb507e3e-632d-4c75-8784-cfbe2c65b2f5",
   "metadata": {},
   "outputs": [],
   "source": []
  }
 ],
 "metadata": {
  "kernelspec": {
   "display_name": "Python 3",
   "language": "python",
   "name": "python3"
  },
  "language_info": {
   "codemirror_mode": {
    "name": "ipython",
    "version": 3
   },
   "file_extension": ".py",
   "mimetype": "text/x-python",
   "name": "python",
   "nbconvert_exporter": "python",
   "pygments_lexer": "ipython3",
   "version": "3.8.8"
  }
 },
 "nbformat": 4,
 "nbformat_minor": 5
}
