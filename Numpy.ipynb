{
 "cells": [
  {
   "cell_type": "markdown",
   "id": "e157548f-c734-4fc4-bc6f-313daa2d19dd",
   "metadata": {},
   "source": [
    "### NUMPY: ARRAYS AND MATRICES"
   ]
  },
  {
   "cell_type": "markdown",
   "id": "d11ba0c9-646e-418b-8ef5-ffff9b536835",
   "metadata": {},
   "source": [
    "> NumPy is an extension to the Python programming language, adding support for large, multi-dimensional (numerical) arrays and matrics, along with a libray of high-level mathematical functions to operate on these arrays. "
   ]
  },
  {
   "cell_type": "code",
   "execution_count": 1,
   "id": "b8bb0cf7-7c03-4ea8-b7fb-58fc3c151961",
   "metadata": {},
   "outputs": [],
   "source": [
    "# importing required modules\n",
    "import numpy as np"
   ]
  },
  {
   "cell_type": "markdown",
   "id": "ef1d802f-cb4a-40e2-833d-5c0580511bbc",
   "metadata": {},
   "source": [
    "### Create arrays"
   ]
  },
  {
   "cell_type": "code",
   "execution_count": 23,
   "id": "b0232139-7405-4d21-95f6-842463610138",
   "metadata": {},
   "outputs": [
    {
     "name": "stdout",
     "output_type": "stream",
     "text": [
      "[11, 33, 22, 55, 44, 66] 6 <class 'list'> 2911153787648\n",
      "[11 33 22 55 44 66] 6 <class 'numpy.ndarray'> 2911143716976\n",
      "(6,) <class 'tuple'>\n",
      "[11, 33, 22, 55, 44, 66] 6 <class 'list'> 2911149761280\n"
     ]
    }
   ],
   "source": [
    "# create ndarrays from lists\n",
    "data1 = [11, 33, 22, 55, 44, 66]\n",
    "print (data1, len(data1), type(data1), id(data1))\n",
    "arr1 = np.array(data1)\n",
    "print (arr1, len(arr1), type(arr1), id(arr1))\n",
    "print (arr1.shape, type(arr1.shape))\n",
    "result = arr1.tolist()\n",
    "print (result, len(result), type(result), id(result))"
   ]
  },
  {
   "cell_type": "code",
   "execution_count": 24,
   "id": "2793c688-d4fd-4de8-ab07-645a328e6afb",
   "metadata": {},
   "outputs": [
    {
     "name": "stdout",
     "output_type": "stream",
     "text": [
      "(11, 33, 22, 55, 44, 66) 6 <class 'tuple'> 2911146678208\n",
      "[11 33 22 55 44 66] 6 <class 'numpy.ndarray'> 2911146677424\n",
      "(6,) <class 'tuple'>\n"
     ]
    }
   ],
   "source": [
    "# create ndarrays from tuples\n",
    "data1 = (11, 33, 22, 55, 44, 66)\n",
    "print (data1, len(data1), type(data1), id(data1))\n",
    "arr1 = np.array(data1)\n",
    "print (arr1, len(arr1), type(arr1), id(arr1))\n",
    "print (arr1.shape, type(arr1.shape))"
   ]
  },
  {
   "cell_type": "code",
   "execution_count": 25,
   "id": "8bba6e79-22c9-476a-8f6f-e37cfdd333e7",
   "metadata": {},
   "outputs": [
    {
     "name": "stdout",
     "output_type": "stream",
     "text": [
      "[[11, 33, 22, 55, 44, 66], [100, 200, 300, 400, 500, 700]] 2 <class 'list'> 2911151317248\n",
      "[[ 11  33  22  55  44  66]\n",
      " [100 200 300 400 500 700]] 2 <class 'numpy.ndarray'> 2911146678576\n",
      "(2, 6) <class 'tuple'>\n",
      "[[11, 33, 22, 55, 44, 66], [100, 200, 300, 400, 500, 700]] 2 <class 'list'> 2911153756800\n"
     ]
    }
   ],
   "source": [
    "# create ndarrays from lists\n",
    "data2 = [[11, 33, 22, 55, 44, 66], [100, 200, 300, 400, 500, 700]]\n",
    "print (data2, len(data2), type(data2), id(data2))\n",
    "arr2 = np.array(data2)\n",
    "print (arr2, len(arr2), type(arr2), id(arr2))\n",
    "print (arr2.shape, type(arr2.shape))\n",
    "result = arr2.tolist()\n",
    "print (result, len(result), type(result), id(result))"
   ]
  },
  {
   "cell_type": "code",
   "execution_count": 26,
   "id": "84269d7d-8af3-4475-863e-32f8dbe74ad6",
   "metadata": {},
   "outputs": [
    {
     "name": "stdout",
     "output_type": "stream",
     "text": [
      "[range(1, 5), range(11, 15)] 2 <class 'list'> 2911151845056\n",
      "[[ 1  2  3  4]\n",
      " [11 12 13 14]] 2 <class 'numpy.ndarray'> 2911153911632\n",
      "(2, 4) <class 'tuple'>\n",
      "[[1, 2, 3, 4], [11, 12, 13, 14]] 2 <class 'list'> 2911151105984\n"
     ]
    }
   ],
   "source": [
    "# create ndarrays from lists\n",
    "data2 = [range(1, 5), range(11, 15)]\n",
    "print (data2, len(data2), type(data2), id(data2))\n",
    "arr2 = np.array(data2)\n",
    "print (arr2, len(arr2), type(arr2), id(arr2))\n",
    "print (arr2.shape, type(arr2.shape))\n",
    "result = arr2.tolist()\n",
    "print (result, len(result), type(result), id(result))"
   ]
  },
  {
   "cell_type": "code",
   "execution_count": 35,
   "id": "349c9c13-d35a-4e09-a58b-f6315ad99974",
   "metadata": {},
   "outputs": [
    {
     "name": "stdout",
     "output_type": "stream",
     "text": [
      "[11, True, 33, False, 22, 55, 44, 66] 8 <class 'list'> 2911151277824\n",
      "[11  1 33  0 22 55 44 66] 8 <class 'numpy.ndarray'> 2911152022896 int32\n",
      "\n",
      "[11, True, 33, False, 22, '55', 44, 66] 8 <class 'list'> 2911150934400\n",
      "['11' 'True' '33' 'False' '22' '55' '44' '66'] 8 <class 'numpy.ndarray'> 2911143716304 <U11\n",
      "\n",
      "[11, True, 33, False, 22, 55, 44.0, 66] 8 <class 'list'> 2911142055744\n",
      "[11.  1. 33.  0. 22. 55. 44. 66.] 8 <class 'numpy.ndarray'> 2911152022896 float64\n",
      "\n",
      "[11, True, 33, False, 22, '55', 44.0, 66] 8 <class 'list'> 2911149997248\n",
      "['11' 'True' '33' 'False' '22' '55' '44.0' '66'] 8 <class 'numpy.ndarray'> 2911143717840 <U32\n"
     ]
    }
   ],
   "source": [
    "# create ndarrays from lists\n",
    "data1 = [11, True, 33, False, 22, 55, 44, 66]\n",
    "print (data1, len(data1), type(data1), id(data1))\n",
    "arr1 = np.array(data1)\n",
    "print (arr1, len(arr1), type(arr1), id(arr1), arr1.dtype)\n",
    "print ()\n",
    "data1 = [11, True, 33, False, 22, '55', 44, 66]\n",
    "print (data1, len(data1), type(data1), id(data1))\n",
    "arr1 = np.array(data1)\n",
    "print (arr1, len(arr1), type(arr1), id(arr1), arr1.dtype)\n",
    "print ()\n",
    "data1 = [11, True, 33, False, 22, 55, 44.0, 66]\n",
    "print (data1, len(data1), type(data1), id(data1))\n",
    "arr1 = np.array(data1)\n",
    "print (arr1, len(arr1), type(arr1), id(arr1), arr1.dtype)\n",
    "print ()\n",
    "data1 = [11, True, 33, False, 22, '55', 44.0, 66]\n",
    "print (data1, len(data1), type(data1), id(data1))\n",
    "arr1 = np.array(data1)\n",
    "print (arr1, len(arr1), type(arr1), id(arr1), arr1.dtype)"
   ]
  },
  {
   "cell_type": "code",
   "execution_count": 42,
   "id": "e024708a-b416-4994-a68f-a84a33a027e8",
   "metadata": {},
   "outputs": [
    {
     "name": "stdout",
     "output_type": "stream",
     "text": [
      "[11 33 22 55 44 66] (6,)\n",
      "[[ 1  2  3  4]\n",
      " [11 12 13 14]] (2, 4)\n",
      "int32 int32\n",
      "(6,) (2, 4)\n",
      "1 2\n",
      "6 8\n",
      "6 2\n"
     ]
    }
   ],
   "source": [
    "# exmining arrays\n",
    "data1 = [11, 33, 22, 55, 44, 66]\n",
    "arr1 = np.array(data1)\n",
    "print (arr1, arr1.shape)\n",
    "print (arr2, arr2.shape)\n",
    "print (arr1.dtype, arr2.dtype)\n",
    "print (arr1.shape, arr2.shape)\n",
    "print (arr1.ndim, arr2.ndim)\n",
    "print (arr1.size, arr2.size)    # returns the number of data items\n",
    "print (len(arr1), len(arr2))    # returns the first dimension"
   ]
  },
  {
   "cell_type": "markdown",
   "id": "15a2a176-e79e-4571-8297-314198fdda18",
   "metadata": {},
   "source": [
    "### Create Special Arrays"
   ]
  },
  {
   "cell_type": "code",
   "execution_count": 52,
   "id": "b54d4bfd-2b16-4aaa-adf8-f2657f24b750",
   "metadata": {},
   "outputs": [
    {
     "name": "stdout",
     "output_type": "stream",
     "text": [
      "[0. 0. 0. 0. 0. 0. 0. 0. 0. 0.] 10 10 1 (10,) <class 'numpy.ndarray'> 2911156382384\n",
      "[0 0 0 0 0 0 0 0 0 0] 10 10 1 (10,) <class 'numpy.ndarray'> 2911147704368\n",
      "[0 0 0 0 0 0 0 0 0 0] 10 10 1 (10,) <class 'numpy.ndarray'> 2911147704944\n",
      "[0 0 0 0 0 0 0 0 0 0] 10 10 1 (10,) <class 'numpy.ndarray'> 2911156382384\n",
      "[0 0 0 0 0 0 0 0 0 0] 10 10 1 (10,) <class 'numpy.ndarray'> 2911147705040\n",
      "[[0. 0. 0. 0. 0.]\n",
      " [0. 0. 0. 0. 0.]] 2 10 2 (2, 5) <class 'numpy.ndarray'> 2911156382384\n",
      "[[0 0 0 0 0]\n",
      " [0 0 0 0 0]] 2 10 2 (2, 5) <class 'numpy.ndarray'> 2911156382288\n",
      "[[0 0 0 0 0]\n",
      " [0 0 0 0 0]] 2 10 2 (2, 5) <class 'numpy.ndarray'> 2911147704944\n"
     ]
    }
   ],
   "source": [
    "arr1 = np.zeros(10)\n",
    "print (arr1, len(arr1), arr1.size, arr1.ndim, arr1.shape, type(arr1), id(arr1))\n",
    "arr1 = np.zeros(10, dtype = 'int')\n",
    "print (arr1, len(arr1), arr1.size, arr1.ndim, arr1.shape, type(arr1), id(arr1))\n",
    "arr1 = np.zeros(10, dtype = int)\n",
    "print (arr1, len(arr1), arr1.size, arr1.ndim, arr1.shape, type(arr1), id(arr1))\n",
    "arr1 = np.zeros(10).astype('int')\n",
    "print (arr1, len(arr1), arr1.size, arr1.ndim, arr1.shape, type(arr1), id(arr1))\n",
    "arr1 = np.zeros(10).astype(int)\n",
    "print (arr1, len(arr1), arr1.size, arr1.ndim, arr1.shape, type(arr1), id(arr1))\n",
    "arr1 = np.zeros(10).reshape(2, 5)\n",
    "print (arr1, len(arr1), arr1.size, arr1.ndim, arr1.shape, type(arr1), id(arr1))\n",
    "arr1 = np.zeros(10).reshape(2, 5).astype(int)\n",
    "print (arr1, len(arr1), arr1.size, arr1.ndim, arr1.shape, type(arr1), id(arr1))\n",
    "arr1 = np.zeros(10).astype(int).reshape(2, 5)\n",
    "print (arr1, len(arr1), arr1.size, arr1.ndim, arr1.shape, type(arr1), id(arr1))"
   ]
  },
  {
   "cell_type": "code",
   "execution_count": 53,
   "id": "8d5655e2-37c9-4b49-9bc7-96c23a9f39d5",
   "metadata": {},
   "outputs": [
    {
     "name": "stdout",
     "output_type": "stream",
     "text": [
      "[1. 1. 1. 1. 1. 1. 1. 1. 1. 1.] 10 10 1 (10,) <class 'numpy.ndarray'> 2911156383248\n",
      "[1 1 1 1 1 1 1 1 1 1] 10 10 1 (10,) <class 'numpy.ndarray'> 2911147704944\n",
      "[1 1 1 1 1 1 1 1 1 1] 10 10 1 (10,) <class 'numpy.ndarray'> 2911147705040\n",
      "[1 1 1 1 1 1 1 1 1 1] 10 10 1 (10,) <class 'numpy.ndarray'> 2911159970960\n",
      "[1 1 1 1 1 1 1 1 1 1] 10 10 1 (10,) <class 'numpy.ndarray'> 2911147704944\n",
      "[[1. 1. 1. 1. 1.]\n",
      " [1. 1. 1. 1. 1.]] 2 10 2 (2, 5) <class 'numpy.ndarray'> 2911147705040\n",
      "[[1 1 1 1 1]\n",
      " [1 1 1 1 1]] 2 10 2 (2, 5) <class 'numpy.ndarray'> 2911156383440\n",
      "[[1 1 1 1 1]\n",
      " [1 1 1 1 1]] 2 10 2 (2, 5) <class 'numpy.ndarray'> 2911159970960\n"
     ]
    }
   ],
   "source": [
    "arr1 = np.ones(10)\n",
    "print (arr1, len(arr1), arr1.size, arr1.ndim, arr1.shape, type(arr1), id(arr1))\n",
    "arr1 = np.ones(10, dtype = 'int')\n",
    "print (arr1, len(arr1), arr1.size, arr1.ndim, arr1.shape, type(arr1), id(arr1))\n",
    "arr1 = np.ones(10, dtype = int)\n",
    "print (arr1, len(arr1), arr1.size, arr1.ndim, arr1.shape, type(arr1), id(arr1))\n",
    "arr1 = np.ones(10).astype('int')\n",
    "print (arr1, len(arr1), arr1.size, arr1.ndim, arr1.shape, type(arr1), id(arr1))\n",
    "arr1 = np.ones(10).astype(int)\n",
    "print (arr1, len(arr1), arr1.size, arr1.ndim, arr1.shape, type(arr1), id(arr1))\n",
    "arr1 = np.ones(10).reshape(2, 5)\n",
    "print (arr1, len(arr1), arr1.size, arr1.ndim, arr1.shape, type(arr1), id(arr1))\n",
    "arr1 = np.ones(10).reshape(2, 5).astype(int)\n",
    "print (arr1, len(arr1), arr1.size, arr1.ndim, arr1.shape, type(arr1), id(arr1))\n",
    "arr1 = np.ones(10).astype(int).reshape(2, 5)\n",
    "print (arr1, len(arr1), arr1.size, arr1.ndim, arr1.shape, type(arr1), id(arr1))"
   ]
  },
  {
   "cell_type": "code",
   "execution_count": 56,
   "id": "e1d43102-7ee8-4ecd-9c1a-58c66fffbb47",
   "metadata": {},
   "outputs": [
    {
     "name": "stdout",
     "output_type": "stream",
     "text": [
      "[5. 5. 5. 5. 5. 5. 5. 5. 5. 5.] 10 10 1 (10,) <class 'numpy.ndarray'> 2911148477296\n",
      "[5. 5. 5. 5. 5. 5. 5. 5. 5. 5.] 10 10 1 (10,) <class 'numpy.ndarray'> 2911156383632\n"
     ]
    }
   ],
   "source": [
    "arr1 = np.zeros(10) + 5    # vector + scalar\n",
    "print (arr1, len(arr1), arr1.size, arr1.ndim, arr1.shape, type(arr1), id(arr1))\n",
    "arr1 = np.ones(10) * 5    # vector * scalar\n",
    "print (arr1, len(arr1), arr1.size, arr1.ndim, arr1.shape, type(arr1), id(arr1))"
   ]
  },
  {
   "cell_type": "code",
   "execution_count": 59,
   "id": "1e2bd61f-233e-4e8b-ba33-affb02ee45d3",
   "metadata": {},
   "outputs": [
    {
     "name": "stdout",
     "output_type": "stream",
     "text": [
      "[0.   0.25 0.5  0.75 1.  ] 5 5 1 (5,) <class 'numpy.ndarray'> 2911156383344\n",
      "[ 0  1  2  3  4  5  6  7  8  9 10] 11 11 1 (11,) <class 'numpy.ndarray'> 2911156382480\n",
      "[ 0  1  2  3  4  5  6  7  8  9 10] 11 11 1 (11,) <class 'numpy.ndarray'> 2911156382288\n"
     ]
    }
   ],
   "source": [
    "arr1 = np.linspace(0, 1, 5)\n",
    "print (arr1, len(arr1), arr1.size, arr1.ndim, arr1.shape, type(arr1), id(arr1))\n",
    "arr1 = np.linspace(0, 10, 11, dtype = 'int')\n",
    "print (arr1, len(arr1), arr1.size, arr1.ndim, arr1.shape, type(arr1), id(arr1))\n",
    "arr1 = np.linspace(0, 10, 11, dtype = int)\n",
    "print (arr1, len(arr1), arr1.size, arr1.ndim, arr1.shape, type(arr1), id(arr1))"
   ]
  },
  {
   "cell_type": "code",
   "execution_count": 62,
   "id": "38c9aaaa-3f55-47d7-8a60-68687c6687c7",
   "metadata": {},
   "outputs": [
    {
     "name": "stdout",
     "output_type": "stream",
     "text": [
      "[   1.   10.  100. 1000.] 4 4 1 (4,) <class 'numpy.ndarray'> 2911148670768\n",
      "[1 2 4 8] 4 4 1 (4,) <class 'numpy.ndarray'> 2911148669808\n",
      "[ 1  4 16 64] 4 4 1 (4,) <class 'numpy.ndarray'> 2911148670768\n"
     ]
    }
   ],
   "source": [
    "arr1 = np.logspace(0, 3, 4)\n",
    "print (arr1, len(arr1), arr1.size, arr1.ndim, arr1.shape, type(arr1), id(arr1))\n",
    "arr1 = np.logspace(0, 3, 4, base = 2, dtype = 'int')\n",
    "print (arr1, len(arr1), arr1.size, arr1.ndim, arr1.shape, type(arr1), id(arr1))\n",
    "arr1 = np.logspace(0, 3, 4, base = 4, dtype = int)\n",
    "print (arr1, len(arr1), arr1.size, arr1.ndim, arr1.shape, type(arr1), id(arr1))"
   ]
  },
  {
   "cell_type": "code",
   "execution_count": 67,
   "id": "4c6a2d89-3011-4320-988c-8a3f2393bac2",
   "metadata": {},
   "outputs": [
    {
     "name": "stdout",
     "output_type": "stream",
     "text": [
      "[[0, 0, 0, 0], [0, 0, 0, 0], [0, 0, 0, 0], [0, 0, 0, 0], [0, 0, 0, 0]]\n",
      "[[0, 0, 0, 0], [0, 0, 0, 0], [0, 0, 0, 0], [0, 0, 0, 0], [0, 0, 0, 0]]\n",
      "[[0, 0, 0, 0, 0], [0, 0, 0, 0, 0], [0, 0, 0, 0, 0], [0, 0, 0, 0, 0]]\n"
     ]
    }
   ],
   "source": [
    "print (np.zeros(20).reshape(5, 4).astype(int).tolist())\n",
    "print (np.zeros(20).astype(int).reshape(5, 4).tolist())\n",
    "print (np.zeros(20).astype(int).reshape(4, 5).tolist())"
   ]
  },
  {
   "cell_type": "markdown",
   "id": "bb8c1981-e9c6-4cbd-8c00-105f7316477a",
   "metadata": {},
   "source": [
    "### Indexing and Slicing"
   ]
  },
  {
   "cell_type": "code",
   "execution_count": 75,
   "id": "2f2d1a6b-9706-4dee-a39f-ad81b4b774ed",
   "metadata": {},
   "outputs": [
    {
     "name": "stdout",
     "output_type": "stream",
     "text": [
      "[11 33 22 55 44 66]\n",
      "55 55 33 33\n",
      "[55 44 66] [55 44 66] [11 33 22 55] [11 33 22 55]\n"
     ]
    }
   ],
   "source": [
    "data1 = [11, 33, 22, 55, 44, 66]\n",
    "arr1 = np.array(data1)\n",
    "print (arr1)\n",
    "print (arr1[3], arr1[-3], arr1[1], arr1[-5])    # indexing\n",
    "print (arr1[3:], arr1[-3:], arr1[:4], arr1[:-2])    # slicing"
   ]
  },
  {
   "cell_type": "code",
   "execution_count": 88,
   "id": "b7fdd012-0f2d-4bf3-8d2c-e9fa27e069f1",
   "metadata": {},
   "outputs": [
    {
     "name": "stdout",
     "output_type": "stream",
     "text": [
      "[[11 33 22 55]\n",
      " [44 66 88 99]\n",
      " [77 25 32 67]\n",
      " [44 66 34 45]]\n",
      "88 88 88 88\n",
      "[[44 66 88 99]\n",
      " [77 25 32 67]]\n",
      "[[33 22]\n",
      " [66 88]\n",
      " [25 32]\n",
      " [66 34]]\n",
      "[[66 88]\n",
      " [25 32]]\n",
      "[[66 88]\n",
      " [25 32]]\n"
     ]
    }
   ],
   "source": [
    "data1 = [11, 33, 22, 55, 44, 66, 88, 99, 77, 25, 32, 67, 44, 66, 34, 45]\n",
    "arr2 = np.array(data1).reshape(4, 4)\n",
    "print (arr2)\n",
    "print (arr2[1][2], arr2[-3][-2], arr2[1, 2], arr2[-3, -2])    # indexing\n",
    "print (arr2[1:3, :])    # slicing\n",
    "print (arr2[:, 1:3])\n",
    "print (arr2[1:3, 1:3])\n",
    "print (arr2[-3:-1, -3:-1])"
   ]
  },
  {
   "cell_type": "markdown",
   "id": "90db8958-61fb-4d58-8267-bfec583a9023",
   "metadata": {},
   "source": [
    "### Views and Copies"
   ]
  },
  {
   "cell_type": "code",
   "execution_count": 91,
   "id": "0e4a8a0f-09a6-4350-b675-0c739fe06604",
   "metadata": {},
   "outputs": [
    {
     "name": "stdout",
     "output_type": "stream",
     "text": [
      "[11 33 22 55 44 66]\n",
      "[ 11  33 100 100 100  66]\n"
     ]
    }
   ],
   "source": [
    "data1 = [11, 33, 22, 55, 44, 66]\n",
    "arr1 = np.array(data1)\n",
    "print (arr1)\n",
    "arr1[2:5] = 100\n",
    "print (arr1)"
   ]
  },
  {
   "cell_type": "code",
   "execution_count": 94,
   "id": "ba956b30-3738-426e-aff7-ee1c3215805b",
   "metadata": {},
   "outputs": [
    {
     "name": "stdout",
     "output_type": "stream",
     "text": [
      "[11 33 22 55 44 66]\n",
      "[22 55 44]\n",
      "[ 11  33 999 999 999  66]\n",
      "[999 999 999]\n",
      "[ 11  33 777 777 777  66]\n",
      "[777 777 777]\n"
     ]
    }
   ],
   "source": [
    "data1 = [11, 33, 22, 55, 44, 66]\n",
    "arr1 = np.array(data1)\n",
    "print (arr1)\n",
    "arr_view = arr1[2:5]\n",
    "print (arr_view)\n",
    "arr_view[:] = 999\n",
    "print (arr1)\n",
    "print (arr_view)\n",
    "arr1[2:5] = 777\n",
    "print (arr1)\n",
    "print (arr_view)"
   ]
  },
  {
   "cell_type": "code",
   "execution_count": 96,
   "id": "1d92a3b7-ba67-438f-b0e5-3d62e92a57ef",
   "metadata": {},
   "outputs": [
    {
     "name": "stdout",
     "output_type": "stream",
     "text": [
      "[11 33 22 55 44 66]\n",
      "[22 55 44]\n",
      "[11 33 22 55 44 66]\n",
      "[999 999 999]\n",
      "[ 11  33 777 777 777  66]\n",
      "[999 999 999]\n"
     ]
    }
   ],
   "source": [
    "data1 = [11, 33, 22, 55, 44, 66]\n",
    "arr1 = np.array(data1)\n",
    "print (arr1)\n",
    "arr_copy = arr1[2:5].copy()\n",
    "print (arr_copy)\n",
    "arr_copy[:] = 999\n",
    "print (arr1)\n",
    "print (arr_copy)\n",
    "arr1[2:5] = 777\n",
    "print (arr1)\n",
    "print (arr_copy)"
   ]
  },
  {
   "cell_type": "markdown",
   "id": "611c6ecd-544d-4c11-9b48-1c99453dc8d9",
   "metadata": {},
   "source": [
    "### Boolean Arrays"
   ]
  },
  {
   "cell_type": "code",
   "execution_count": 103,
   "id": "ed1bdd71-d46f-4214-aed2-93803eb94462",
   "metadata": {},
   "outputs": [
    {
     "name": "stdout",
     "output_type": "stream",
     "text": [
      "[False  True  True False False False False  True  True False]\n",
      "[99 88 66 77]\n",
      "[ True False False  True  True  True  True False False  True]\n",
      "[11 33 22 55 44 45]\n",
      "[11 33 22 55 44 45]\n"
     ]
    }
   ],
   "source": [
    "data1 = [11, 99, 88, 33, 22, 55, 44, 66, 77, 45]\n",
    "arr1 = np.array(data1)\n",
    "print (arr1 > 55)\n",
    "print (arr1[arr1 > 55])\n",
    "print (~(arr1 > 55))    # negation with ~ operator\n",
    "print (arr1[~(arr1 > 55)])\n",
    "print (arr1[arr1 <= 55])"
   ]
  },
  {
   "cell_type": "code",
   "execution_count": 110,
   "id": "17e05572-7cb3-47db-aebb-ef5e93745714",
   "metadata": {},
   "outputs": [
    {
     "name": "stdout",
     "output_type": "stream",
     "text": [
      "[11 99 88 30 22 55 44 66 77 45]\n",
      "[False False False  True False False False  True False False]\n",
      "[30 66]\n",
      "[False False False  True False False False  True False False]\n",
      "[30 66]\n",
      "[False  True  True  True  True False  True  True False  True]\n",
      "[99 88 30 22 44 66 45]\n"
     ]
    }
   ],
   "source": [
    "data1 = [11, 99, 88, 30, 22, 55, 44, 66, 77, 45]\n",
    "arr1 = np.array(data1)\n",
    "print (arr1)\n",
    "print (arr1 % 6 == 0)\n",
    "print (arr1[arr1 % 6 == 0])\n",
    "print ((arr1 % 2 == 0) & (arr1 % 3 == 0))\n",
    "print (arr1[(arr1 % 2 == 0) & (arr1 % 3 == 0)])\n",
    "print ((arr1 % 2 == 0) | (arr1 % 3 == 0))\n",
    "print (arr1[(arr1 % 2 == 0) | (arr1 % 3 == 0)])"
   ]
  },
  {
   "cell_type": "code",
   "execution_count": 114,
   "id": "cca48ece-7e46-45bd-bdba-dc1f10961c99",
   "metadata": {},
   "outputs": [
    {
     "name": "stdout",
     "output_type": "stream",
     "text": [
      "[22 55 44 30 22 55 44 66 22 55]\n",
      "[22 30 44 55 66]\n"
     ]
    }
   ],
   "source": [
    "data1 = [22, 55, 44, 30, 22, 55, 44, 66, 22, 55]\n",
    "arr1 = np.array(data1)\n",
    "print (arr1)\n",
    "print (np.unique(arr1))"
   ]
  },
  {
   "cell_type": "code",
   "execution_count": 121,
   "id": "06274109-260e-4e54-8e85-585a23037181",
   "metadata": {},
   "outputs": [
    {
     "name": "stdout",
     "output_type": "stream",
     "text": [
      "['bob' 'paul' 'jim' 'paul' 'bob' 'tim' 'bob']\n",
      "[ True False False False  True False  True]\n",
      "['bob' 'bob' 'bob']\n",
      "[False  True  True  True False  True False]\n",
      "['paul' 'jim' 'paul' 'tim']\n",
      "['pat' 'paul' 'jim' 'paul' 'pat' 'tim' 'pat']\n",
      "['jim' 'pat' 'paul' 'tim']\n"
     ]
    }
   ],
   "source": [
    "data1 = ['bob', 'paul', 'jim', 'paul', 'bob', 'tim', 'bob']\n",
    "arr1 = np.array(data1)\n",
    "print (arr1)\n",
    "print (arr1 == 'bob')\n",
    "print (arr1[arr1 == 'bob'])\n",
    "print (~(arr1 == 'bob'))\n",
    "print (arr1[~(arr1 == 'bob')])\n",
    "arr1[arr1 == 'bob'] = 'pat'\n",
    "print (arr1)\n",
    "print (np.unique(arr1))"
   ]
  },
  {
   "cell_type": "code",
   "execution_count": 122,
   "id": "da014b6b-8973-4174-817c-bc7bed27b6cb",
   "metadata": {},
   "outputs": [
    {
     "name": "stdout",
     "output_type": "stream",
     "text": [
      "[0.0, 0.0, 0.0, 0.0, 0.0, 0.0, 0.0, 0.0, 0.0, 0.0, 0.0, 0.0, 0.0, 0.0, 0.0, 0.0, 0.0, 0.0, 0.0, 0.0] <class 'list'>\n"
     ]
    }
   ],
   "source": [
    "list1 = np.zeros(20).tolist()\n",
    "print (list1, type(list1))"
   ]
  },
  {
   "cell_type": "markdown",
   "id": "9f4c5b30-bc75-4012-9263-bc22ed5a86f6",
   "metadata": {},
   "source": [
    "### Vectorized Operations"
   ]
  },
  {
   "cell_type": "code",
   "execution_count": 135,
   "id": "0fed7a10-ba91-43c5-846c-28754a9c64df",
   "metadata": {},
   "outputs": [
    {
     "name": "stdout",
     "output_type": "stream",
     "text": [
      "[0 1 2 3 4 5] (6,)\n",
      "[0.         1.         1.41421356 1.73205081 2.         2.23606798]\n",
      "[0. 1. 2. 2. 2. 3.] [0. 1. 1. 1. 2. 2.] [False False False False False False]\n",
      "15\n",
      "2.5\n",
      "2.5\n"
     ]
    }
   ],
   "source": [
    "nums = np.arange(6)\n",
    "print (nums, nums.shape)\n",
    "result = np.sqrt(nums)\n",
    "print (result)\n",
    "print (np.ceil(result), np.floor(result), np.isnan(result))\n",
    "result = np.sum(nums)\n",
    "print (result)\n",
    "result = np.mean(nums)\n",
    "print (result)\n",
    "result = np.median(nums)\n",
    "print (result)"
   ]
  },
  {
   "cell_type": "code",
   "execution_count": 206,
   "id": "cbf9c976-2ce1-4323-a8e5-9a1471ff1961",
   "metadata": {},
   "outputs": [
    {
     "name": "stdout",
     "output_type": "stream",
     "text": [
      "[False False False False]\n",
      "[False  True False  True False False]\n"
     ]
    }
   ],
   "source": [
    "nums = np.array([100, 200, 400, 300])\n",
    "print (np.isnan(nums))\n",
    "nums = np.array([100, np.nan, 200, np.nan, 400, 300])\n",
    "print (np.isnan(nums))"
   ]
  },
  {
   "cell_type": "code",
   "execution_count": 142,
   "id": "843b65a0-15cd-4ec2-a929-8bab9d663369",
   "metadata": {},
   "outputs": [
    {
     "name": "stdout",
     "output_type": "stream",
     "text": [
      "[ 15 -20  32  -1  40  10]\n",
      "[ 10 -40  30  -3  33 -50]\n"
     ]
    }
   ],
   "source": [
    "print (np.maximum(np.array([10, -20, 30, -3, 40, -50]), np.array([15, -40, 32, -1, 33, 10])))\n",
    "print (np.minimum(np.array([10, -20, 30, -3, 40, -50]), np.array([15, -40, 32, -1, 33, 10])))"
   ]
  },
  {
   "cell_type": "markdown",
   "id": "1b9bffc6-1c42-4efa-8d81-0bff0234988c",
   "metadata": {},
   "source": [
    "### Dealing with Numpy Random Numbers"
   ]
  },
  {
   "cell_type": "code",
   "execution_count": 153,
   "id": "b307f5cd-644d-469e-ad9c-59f5f9a28aba",
   "metadata": {},
   "outputs": [
    {
     "name": "stdout",
     "output_type": "stream",
     "text": [
      "[-0.53321862 -0.54350446 -0.29509252 ...  1.64774944  0.20079714\n",
      "  0.04330835] 100000\n",
      "-6.352128808915075e-05 1.0003560125311275\n"
     ]
    }
   ],
   "source": [
    "vect1 = np.random.randn(100000)     # random numbers normalized, here the average of numbers will be 0 and std will be 1\n",
    "print (vect1, len(vect1))\n",
    "print (np.mean(vect1), np.std(vect1))"
   ]
  },
  {
   "cell_type": "code",
   "execution_count": null,
   "id": "26ef43a7-7403-4ae1-b445-1a9dfb8218ce",
   "metadata": {},
   "outputs": [],
   "source": [
    "pt1 (x1, y1)\n",
    "pt2 (x2, y2)\n",
    "dist_eucledian = sqrt((x1 - x2)^2 + (y1 - y2)^2)\n",
    "\n",
    "pt1 (x1, x2, x3, x4)\n",
    "pt2 (y1, y2, y3, y4)\n",
    "dist_eucledian = sqrt((x1 - y1)^2 + (x2 - y2)^2 + (x3 - y3)^2 + (x4 - y4)^2)"
   ]
  },
  {
   "cell_type": "code",
   "execution_count": 173,
   "id": "c5580d6a-be7e-4973-9642-235e4f433d5d",
   "metadata": {},
   "outputs": [
    {
     "name": "stdout",
     "output_type": "stream",
     "text": [
      "[-0.03588112  2.6109494  -0.08664161  2.36596562  1.14770948  0.32181776\n",
      " -1.44555277 -1.25693384 -2.05955137 -1.07850976] (10,) <class 'numpy.ndarray'>\n",
      "[-0.2086692  -0.01387183  0.98798743 -0.66613037  1.19039588 -1.5397081\n",
      "  0.75419873 -1.11965114  2.1388429  -0.80946185] (10,) <class 'numpy.ndarray'>\n",
      "6.57964520384926\n",
      "6.57964520384926\n",
      "6.57964520384926\n",
      "6.57964520384926\n",
      "6.57964520384926\n"
     ]
    }
   ],
   "source": [
    "# calculating Eucledian distance between two vectors\n",
    "vect1 = np.random.randn(10)\n",
    "vect2 = np.random.randn(10)\n",
    "print (vect1, vect1.shape, type(vect1))\n",
    "print (vect2, vect2.shape, type(vect2))\n",
    "\n",
    "eucledian_dist = 0\n",
    "for i in range(len(vect1)):\n",
    "    eucledian_dist = eucledian_dist + (vect1[i] - vect2[i]) ** 2\n",
    "print (np.sqrt(eucledian_dist))\n",
    "\n",
    "print (np.sqrt(np.sum((vect1 - vect2) ** 2)))\n",
    "print (np.sqrt(np.sum(pow(np.subtract(vect1, vect2), 2))))\n",
    "print (np.linalg.norm(vect1 - vect2))\n",
    "print (np.linalg.norm(np.subtract(vect1, vect2)))"
   ]
  },
  {
   "cell_type": "code",
   "execution_count": 179,
   "id": "d96612b4-346e-4052-8116-ec91766b06dc",
   "metadata": {},
   "outputs": [
    {
     "name": "stdout",
     "output_type": "stream",
     "text": [
      "[ 0.95331872  0.77995747  0.37905931 -0.97568079 -0.40331077 -0.02286105\n",
      " -2.04870396  0.02065024 -0.62499273  0.66249163] (10,) <class 'numpy.ndarray'>\n",
      "[ True  True  True False False False False  True False  True]\n",
      "5\n",
      "True\n",
      "False\n"
     ]
    }
   ],
   "source": [
    "vect1 = np.random.randn(10)\n",
    "print (vect1, vect1.shape, type(vect1))\n",
    "print (vect1 >= 0)\n",
    "print ((vect1 >= 0).sum())\n",
    "print ((vect1 >= 0).any())\n",
    "print ((vect1 >= 0).all())"
   ]
  },
  {
   "cell_type": "code",
   "execution_count": 183,
   "id": "ecb9063e-f6ee-436c-bf9f-483bf2f8221a",
   "metadata": {},
   "outputs": [
    {
     "name": "stdout",
     "output_type": "stream",
     "text": [
      "[-0.2141626  -0.20913675 -0.34351493 -1.64499648  1.87593584 -2.00445566\n",
      "  1.02509298 -0.7642748  -0.9431635  -1.09012847  1.95942734  0.67737936]\n",
      "[[-1.36586755  1.51336679  0.10472577]\n",
      " [ 1.8728379   0.03505361  0.65958067]\n",
      " [-0.68029961 -0.47722208 -0.27633896]\n",
      " [ 0.49724401  0.43754669 -1.20317615]]\n",
      "[[ 0.78599051 -2.10491599 -0.25483446]\n",
      " [-0.93015277 -1.2483377   0.04315336]\n",
      " [ 0.19914648 -0.02370458  0.07711737]\n",
      " [-0.36608704  0.40508896  2.29534195]]\n",
      "[[[-0.11146134 -1.97268832]\n",
      "  [ 0.96250275  0.19131133]]\n",
      "\n",
      " [[-0.58927252  0.2278398 ]\n",
      "  [ 1.19699973  0.71582402]]\n",
      "\n",
      " [[-1.31176697 -0.70370837]\n",
      "  [ 1.43093397 -0.13149862]]]\n"
     ]
    }
   ],
   "source": [
    "rnd = np.random.randn(12)\n",
    "print (rnd)\n",
    "rnd = np.random.randn(4, 3)\n",
    "print (rnd)\n",
    "rnd = np.random.randn(12).reshape(4, 3)\n",
    "print (rnd)\n",
    "rnd = np.random.randn(12).reshape(3, 2, 2)\n",
    "print (rnd)"
   ]
  },
  {
   "cell_type": "code",
   "execution_count": 186,
   "id": "200855cd-309d-4273-bdeb-2e258168851f",
   "metadata": {},
   "outputs": [
    {
     "name": "stdout",
     "output_type": "stream",
     "text": [
      "[-0.37431936  0.43277132 -0.40267548  0.32092194 -0.16506549  0.24590415]\n",
      "0.009589515419849981\n",
      "0.33657791387216696\n",
      "0.057537092519099886\n",
      "1\n",
      "2\n"
     ]
    }
   ],
   "source": [
    "rnd = np.random.randn(6)\n",
    "print (rnd)\n",
    "print (np.mean(rnd))\n",
    "print (np.std(rnd))\n",
    "print (np.sum(rnd))\n",
    "print (np.argmax(rnd))\n",
    "print (np.argmin(rnd))"
   ]
  },
  {
   "cell_type": "code",
   "execution_count": 195,
   "id": "eb507e3e-632d-4c75-8784-cfbe2c65b2f5",
   "metadata": {},
   "outputs": [
    {
     "name": "stdout",
     "output_type": "stream",
     "text": [
      "[[-0.03098009 -0.06563844 -1.07331886]\n",
      " [ 0.21445505 -1.77979603  1.09303111]\n",
      " [-0.43077731  0.54205725 -0.29123415]\n",
      " [ 0.4460891   0.19586936  1.07679996]]\n",
      "-0.00862025319005714\n",
      "0.7919302714974664\n",
      "-0.10344303828068568 -0.10344303828068568\n",
      "5\n",
      "4\n",
      "-0.10344303828068568\n",
      "[ 0.19878676 -1.10750786  0.80527806]\n",
      "[-1.16993739 -0.47230986 -0.17995421  1.71875842]\n"
     ]
    }
   ],
   "source": [
    "rnd = np.random.randn(4, 3)\n",
    "print (rnd)\n",
    "print (np.mean(rnd))\n",
    "print (np.std(rnd))\n",
    "print (np.sum(rnd), rnd.sum())\n",
    "print (np.argmax(rnd))\n",
    "print (np.argmin(rnd))\n",
    "print (rnd.sum())\n",
    "print (rnd.sum(axis = 0))    # columnwise sum\n",
    "print (rnd.sum(axis = 1))    # rowwise sum"
   ]
  },
  {
   "cell_type": "code",
   "execution_count": null,
   "id": "40e28242-ba9b-468a-834b-dba62b516d83",
   "metadata": {},
   "outputs": [],
   "source": [
    "help(np)"
   ]
  },
  {
   "cell_type": "code",
   "execution_count": 202,
   "id": "2e6974b9-b2d3-49e2-a60a-e99d3fe9fb2a",
   "metadata": {},
   "outputs": [
    {
     "name": "stdout",
     "output_type": "stream",
     "text": [
      "[[ 0  1  2  3]\n",
      " [ 4  5  6  7]\n",
      " [ 8  9 10 11]\n",
      " [12 13 14 15]\n",
      " [16 17 18 19]\n",
      " [20 21 22 23]\n",
      " [24 25 26 27]\n",
      " [28 29 30 31]]\n",
      "(8, 4)\n",
      "[[ 0  4  8 12 16 20 24 28]\n",
      " [ 1  5  9 13 17 21 25 29]\n",
      " [ 2  6 10 14 18 22 26 30]\n",
      " [ 3  7 11 15 19 23 27 31]]\n",
      "(4, 8)\n"
     ]
    }
   ],
   "source": [
    "nums = np.arange(32).reshape(8, 4)\n",
    "print (nums)\n",
    "print (nums.shape)\n",
    "result = nums.T    # Transpose\n",
    "print (result)\n",
    "print (result.shape)"
   ]
  },
  {
   "cell_type": "code",
   "execution_count": 204,
   "id": "15158d71-f273-474b-a592-8f14989539be",
   "metadata": {},
   "outputs": [
    {
     "name": "stdout",
     "output_type": "stream",
     "text": [
      "[[ 0  1  2  3]\n",
      " [ 4  5  6  7]\n",
      " [ 8  9 10 11]\n",
      " [12 13 14 15]\n",
      " [16 17 18 19]\n",
      " [20 21 22 23]\n",
      " [24 25 26 27]\n",
      " [28 29 30 31]]\n",
      "(8, 4)\n",
      "[ 0  1  2  3  4  5  6  7  8  9 10 11 12 13 14 15 16 17 18 19 20 21 22 23\n",
      " 24 25 26 27 28 29 30 31]\n",
      "(32,)\n",
      "[[ 0  4  8 12 16 20 24 28]\n",
      " [ 1  5  9 13 17 21 25 29]\n",
      " [ 2  6 10 14 18 22 26 30]\n",
      " [ 3  7 11 15 19 23 27 31]]\n",
      "(4, 8)\n",
      "[ 0  4  8 12 16 20 24 28  1  5  9 13 17 21 25 29  2  6 10 14 18 22 26 30\n",
      "  3  7 11 15 19 23 27 31]\n"
     ]
    }
   ],
   "source": [
    "nums = np.arange(32).reshape(8, 4)\n",
    "print (nums)\n",
    "print (nums.shape)\n",
    "result = nums.flatten()\n",
    "print (result)\n",
    "print (result.shape)\n",
    "result = nums.T    # Transpose\n",
    "print (result)\n",
    "print (result.shape)\n",
    "result = result.flatten()\n",
    "print (result)"
   ]
  },
  {
   "cell_type": "markdown",
   "id": "6195076d-d2c0-4ae8-9235-24e93fef6f99",
   "metadata": {},
   "source": [
    "### Ndarray in Row and Column Major Ways"
   ]
  },
  {
   "cell_type": "code",
   "execution_count": 215,
   "id": "e66ad8fd-cc60-4e06-b860-7ea807594093",
   "metadata": {},
   "outputs": [
    {
     "name": "stdout",
     "output_type": "stream",
     "text": [
      "[[0. 1. 2. 3. 4.]\n",
      " [5. 6. 7. 8. 9.]]\n",
      "\n",
      "Sorted in C-style order (Row Major):\n",
      "[[0. 1. 2. 3. 4.]\n",
      " [5. 6. 7. 8. 9.]]\n",
      "0.0, 1.0, 2.0, 3.0, 4.0, 5.0, 6.0, 7.0, 8.0, 9.0, \n",
      "\n",
      "Sorted in F-style order (Column Major):\n",
      "[[0. 1. 2. 3. 4.]\n",
      " [5. 6. 7. 8. 9.]]\n",
      "0.0, 5.0, 1.0, 6.0, 2.0, 7.0, 3.0, 8.0, 4.0, 9.0, \n"
     ]
    }
   ],
   "source": [
    "# matrix = np.array([10, 50, 20, 60, 40, 100, 34, 21, 12, 100], dtype = float).reshape(2, 5)\n",
    "matrix = np.arange(10, dtype = float).reshape(2, 5)\n",
    "print (matrix)\n",
    "\n",
    "print (\"\\nSorted in C-style order (Row Major):\")\n",
    "cmatrix = matrix.copy(order = 'C')\n",
    "print (cmatrix)\n",
    "for x in np.nditer(cmatrix):\n",
    "    print (x, end = \", \")\n",
    "print ()\n",
    "print (\"\\nSorted in F-style order (Column Major):\")\n",
    "fmatrix = matrix.copy(order = 'F')\n",
    "print (fmatrix)\n",
    "for x in np.nditer(fmatrix):\n",
    "    print (x, end = \", \")\n",
    "print ()"
   ]
  },
  {
   "cell_type": "markdown",
   "id": "d545b858-2d09-4b4c-a333-87433c90852f",
   "metadata": {},
   "source": [
    "### Append, Insert, Delete and Sort"
   ]
  },
  {
   "cell_type": "code",
   "execution_count": 231,
   "id": "6ce05fcd-025c-4dd2-80f4-741b11a4c138",
   "metadata": {},
   "outputs": [
    {
     "name": "stdout",
     "output_type": "stream",
     "text": [
      "[0 1 2 3 4 5 6 7 8 9] (10,)\n",
      "[ 0  1  2  3  4  5  6  7  8  9 10 11 12 13] (14,)\n",
      "[ 0  1  2 14 15 16  3  4  5  6  7  8  9 10 11 12 13] (17,)\n",
      "[ 0  1  2 14 15  5  6  7  8  9 10 11 12 13] (14,)\n",
      "[ 0  1  2 14 15  8  9 10 11 12 13] (11,)\n",
      "[ 0  1  2  8  9 10 11 12 13 14 15] (11,)\n",
      "[15 14 13 12 11 10  9  8  2  1  0] (11,)\n"
     ]
    }
   ],
   "source": [
    "matrix = np.arange(10, dtype = np.int8)\n",
    "print (matrix, matrix.shape)\n",
    "matrix = np.append(matrix, [10, 11, 12, 13])\n",
    "print (matrix, matrix.shape)\n",
    "matrix = np.insert(matrix, 3, [14, 15, 16])\n",
    "print (matrix, matrix.shape)\n",
    "matrix = np.delete(matrix, [5, 6, 7])\n",
    "print (matrix, matrix.shape)\n",
    "matrix = np.delete(matrix, range(5, 8))\n",
    "print (matrix, matrix.shape)\n",
    "matrix = np.sort(matrix)\n",
    "print (matrix, matrix.shape)\n",
    "matrix = -np.sort(-matrix)\n",
    "print (matrix, matrix.shape)"
   ]
  },
  {
   "cell_type": "markdown",
   "id": "21fe77c8-5323-4f75-b330-b7790333e39e",
   "metadata": {},
   "source": [
    "### Concatenating two Matrices"
   ]
  },
  {
   "cell_type": "code",
   "execution_count": 234,
   "id": "d5996a7f-b6ef-45d0-bdfb-ba8a56a0e224",
   "metadata": {},
   "outputs": [
    {
     "name": "stdout",
     "output_type": "stream",
     "text": [
      "First array:\n",
      "[[1 2]\n",
      " [3 4]]\n",
      "\n",
      "Second array:\n",
      "[[5 6]\n",
      " [7 8]]\n",
      "\n",
      "Joining the two arrays long axis 0:\n",
      "[[1 2]\n",
      " [3 4]\n",
      " [5 6]\n",
      " [7 8]]\n",
      "\n",
      "Joining the two arrays long axis 1:\n",
      "[[1 2 5 6]\n",
      " [3 4 7 8]]\n"
     ]
    }
   ],
   "source": [
    "matrix1 = np.array([[1, 2], [3, 4]])\n",
    "print (\"First array:\")\n",
    "print (matrix1)\n",
    "print ()\n",
    "\n",
    "matrix2 = np.array([[5, 6], [7, 8]])\n",
    "print (\"Second array:\")\n",
    "print (matrix2)\n",
    "print ()\n",
    "\n",
    "# both the arrays are of the same dimensions\n",
    "print (\"Joining the two arrays long axis 0:\")\n",
    "result = np.concatenate((matrix1, matrix2))\n",
    "print (result)\n",
    "print ()\n",
    "print (\"Joining the two arrays long axis 1:\")\n",
    "result = np.concatenate((matrix1, matrix2), axis = 1)\n",
    "print (result)"
   ]
  },
  {
   "cell_type": "code",
   "execution_count": 236,
   "id": "47f490a1-a119-4f1c-9a8f-e4988c88bd46",
   "metadata": {},
   "outputs": [
    {
     "name": "stdout",
     "output_type": "stream",
     "text": [
      "First array:\n",
      "[[1 2 3]\n",
      " [4 5 6]\n",
      " [7 8 9]]\n",
      "\n",
      "Second array:\n",
      "[[11 22 33]\n",
      " [44 55 66]\n",
      " [77 88 99]]\n",
      "\n",
      "Joining the two arrays long axis 0:\n",
      "[[ 1  2  3]\n",
      " [ 4  5  6]\n",
      " [ 7  8  9]\n",
      " [11 22 33]\n",
      " [44 55 66]\n",
      " [77 88 99]]\n",
      "\n",
      "Joining the two arrays long axis 1:\n",
      "[[ 1  2  3 11 22 33]\n",
      " [ 4  5  6 44 55 66]\n",
      " [ 7  8  9 77 88 99]]\n"
     ]
    }
   ],
   "source": [
    "matrix1 = np.array([[1, 2, 3], [4, 5, 6], [7, 8, 9]])\n",
    "print (\"First array:\")\n",
    "print (matrix1)\n",
    "print ()\n",
    "\n",
    "matrix2 = np.array([[11, 22, 33], [44, 55, 66], [77, 88, 99]])\n",
    "print (\"Second array:\")\n",
    "print (matrix2)\n",
    "print ()\n",
    "\n",
    "# both the arrays are of the same dimensions\n",
    "print (\"Joining the two arrays long axis 0:\")\n",
    "result = np.concatenate((matrix1, matrix2))\n",
    "print (result)\n",
    "print ()\n",
    "print (\"Joining the two arrays long axis 1:\")\n",
    "result = np.concatenate((matrix1, matrix2), axis = 1)\n",
    "print (result)"
   ]
  },
  {
   "cell_type": "code",
   "execution_count": 237,
   "id": "d654e912-68fc-4360-848f-bcba6976bf00",
   "metadata": {},
   "outputs": [
    {
     "name": "stdout",
     "output_type": "stream",
     "text": [
      "Stack the two arrays along axis 0:\n",
      "[[[ 1  2  3]\n",
      "  [ 4  5  6]\n",
      "  [ 7  8  9]]\n",
      "\n",
      " [[11 22 33]\n",
      "  [44 55 66]\n",
      "  [77 88 99]]]\n",
      "\n"
     ]
    }
   ],
   "source": [
    "print (\"Stack the two arrays along axis 0:\")\n",
    "result = np.stack((matrix1, matrix2), 0)\n",
    "print (result)\n",
    "print ()"
   ]
  },
  {
   "cell_type": "code",
   "execution_count": null,
   "id": "6c661fd1-649a-497a-86fc-6072f35ce068",
   "metadata": {},
   "outputs": [],
   "source": []
  },
  {
   "cell_type": "code",
   "execution_count": null,
   "id": "2210399c-4350-4956-a251-9a9336073517",
   "metadata": {},
   "outputs": [],
   "source": []
  },
  {
   "cell_type": "code",
   "execution_count": null,
   "id": "a02e1c3e-9f76-42f0-ad85-0f2e2464a6ce",
   "metadata": {},
   "outputs": [],
   "source": []
  },
  {
   "cell_type": "code",
   "execution_count": null,
   "id": "5fb88e35-8ba4-4de1-9a7e-0f0ae9b7574c",
   "metadata": {},
   "outputs": [],
   "source": []
  },
  {
   "cell_type": "code",
   "execution_count": null,
   "id": "998d03b3-04c2-44db-87a3-760f91717222",
   "metadata": {},
   "outputs": [],
   "source": []
  },
  {
   "cell_type": "code",
   "execution_count": null,
   "id": "44cc1143-4ed7-43df-95b6-157523a7aedf",
   "metadata": {},
   "outputs": [],
   "source": []
  }
 ],
 "metadata": {
  "kernelspec": {
   "display_name": "Python 3",
   "language": "python",
   "name": "python3"
  },
  "language_info": {
   "codemirror_mode": {
    "name": "ipython",
    "version": 3
   },
   "file_extension": ".py",
   "mimetype": "text/x-python",
   "name": "python",
   "nbconvert_exporter": "python",
   "pygments_lexer": "ipython3",
   "version": "3.8.8"
  }
 },
 "nbformat": 4,
 "nbformat_minor": 5
}
