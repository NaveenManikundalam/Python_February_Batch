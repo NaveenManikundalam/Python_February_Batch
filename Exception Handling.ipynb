{
 "cells": [
  {
   "cell_type": "markdown",
   "id": "9ae0a8d8-81df-46e5-9b74-7040a5c18c60",
   "metadata": {},
   "source": [
    "### Exception Handling using Python"
   ]
  },
  {
   "cell_type": "code",
   "execution_count": 1,
   "id": "a2810966-7060-4034-9278-3d36d6128b13",
   "metadata": {},
   "outputs": [
    {
     "name": "stdin",
     "output_type": "stream",
     "text": [
      "Please enter the first number:  100\n",
      "Please enter the second number:  40\n"
     ]
    },
    {
     "name": "stdout",
     "output_type": "stream",
     "text": [
      "So 100 / 40 = 2.5...\n",
      "End of the program...\n"
     ]
    }
   ],
   "source": [
    "num1 = int(input(\"Please enter the first number: \"))\n",
    "num2 = int(input(\"Please enter the second number: \"))\n",
    "result = num1 / num2\n",
    "print (f\"So {num1} / {num2} = {result}...\")\n",
    "print (\"End of the program...\")"
   ]
  },
  {
   "cell_type": "code",
   "execution_count": 2,
   "id": "4bcd5b59-e615-4d86-8bd9-a2cb8d82fc71",
   "metadata": {},
   "outputs": [
    {
     "name": "stdin",
     "output_type": "stream",
     "text": [
      "Please enter the first number:  100\n",
      "Please enter the second number:  0\n"
     ]
    },
    {
     "ename": "ZeroDivisionError",
     "evalue": "division by zero",
     "output_type": "error",
     "traceback": [
      "\u001b[1;31m---------------------------------------------------------------------------\u001b[0m",
      "\u001b[1;31mZeroDivisionError\u001b[0m                         Traceback (most recent call last)",
      "\u001b[1;32m<ipython-input-2-5dddedadebb0>\u001b[0m in \u001b[0;36m<module>\u001b[1;34m\u001b[0m\n\u001b[0;32m      1\u001b[0m \u001b[0mnum1\u001b[0m \u001b[1;33m=\u001b[0m \u001b[0mint\u001b[0m\u001b[1;33m(\u001b[0m\u001b[0minput\u001b[0m\u001b[1;33m(\u001b[0m\u001b[1;34m\"Please enter the first number: \"\u001b[0m\u001b[1;33m)\u001b[0m\u001b[1;33m)\u001b[0m\u001b[1;33m\u001b[0m\u001b[1;33m\u001b[0m\u001b[0m\n\u001b[0;32m      2\u001b[0m \u001b[0mnum2\u001b[0m \u001b[1;33m=\u001b[0m \u001b[0mint\u001b[0m\u001b[1;33m(\u001b[0m\u001b[0minput\u001b[0m\u001b[1;33m(\u001b[0m\u001b[1;34m\"Please enter the second number: \"\u001b[0m\u001b[1;33m)\u001b[0m\u001b[1;33m)\u001b[0m\u001b[1;33m\u001b[0m\u001b[1;33m\u001b[0m\u001b[0m\n\u001b[1;32m----> 3\u001b[1;33m \u001b[0mresult\u001b[0m \u001b[1;33m=\u001b[0m \u001b[0mnum1\u001b[0m \u001b[1;33m/\u001b[0m \u001b[0mnum2\u001b[0m\u001b[1;33m\u001b[0m\u001b[1;33m\u001b[0m\u001b[0m\n\u001b[0m\u001b[0;32m      4\u001b[0m \u001b[0mprint\u001b[0m \u001b[1;33m(\u001b[0m\u001b[1;34mf\"So {num1} / {num2} = {result}...\"\u001b[0m\u001b[1;33m)\u001b[0m\u001b[1;33m\u001b[0m\u001b[1;33m\u001b[0m\u001b[0m\n\u001b[0;32m      5\u001b[0m \u001b[0mprint\u001b[0m \u001b[1;33m(\u001b[0m\u001b[1;34m\"End of the program...\"\u001b[0m\u001b[1;33m)\u001b[0m\u001b[1;33m\u001b[0m\u001b[1;33m\u001b[0m\u001b[0m\n",
      "\u001b[1;31mZeroDivisionError\u001b[0m: division by zero"
     ]
    }
   ],
   "source": [
    "num1 = int(input(\"Please enter the first number: \"))\n",
    "num2 = int(input(\"Please enter the second number: \"))\n",
    "result = num1 / num2\n",
    "print (f\"So {num1} / {num2} = {result}...\")\n",
    "print (\"End of the program...\")"
   ]
  },
  {
   "cell_type": "code",
   "execution_count": 6,
   "id": "eade2a2a-3b12-4828-bc93-c81ee95f5fff",
   "metadata": {},
   "outputs": [
    {
     "name": "stdin",
     "output_type": "stream",
     "text": [
      "Please enter the first number:  100\n",
      "Please enter the second number:  0\n"
     ]
    },
    {
     "name": "stdout",
     "output_type": "stream",
     "text": [
      "ZeroDivisionError: Division by ZERO is Illegal !!!...\n",
      "ZeroDivisionError: Error message: division by zero\n",
      "ZeroDivisionError: Error type: <class 'ZeroDivisionError'>\n",
      "End of the program...\n"
     ]
    }
   ],
   "source": [
    "try:\n",
    "    num1 = int(input(\"Please enter the first number: \"))\n",
    "    num2 = int(input(\"Please enter the second number: \"))\n",
    "    result = num1 / num2\n",
    "    print (f\"So {num1} / {num2} = {result}...\")\n",
    "except ZeroDivisionError as zde:\n",
    "    print (\"ZeroDivisionError: Division by ZERO is Illegal !!!...\")\n",
    "    print (\"ZeroDivisionError: Error message:\", zde)\n",
    "    print (\"ZeroDivisionError: Error type:\", type(zde))\n",
    "print (\"End of the program...\")"
   ]
  },
  {
   "cell_type": "code",
   "execution_count": 11,
   "id": "ba27cbca-906a-4b24-bfd4-e604840333f8",
   "metadata": {},
   "outputs": [
    {
     "name": "stdin",
     "output_type": "stream",
     "text": [
      "Please enter the first number:  100\n",
      "Please enter the second number:  20.5\n"
     ]
    },
    {
     "ename": "ValueError",
     "evalue": "invalid literal for int() with base 10: '20.5'",
     "output_type": "error",
     "traceback": [
      "\u001b[1;31m---------------------------------------------------------------------------\u001b[0m",
      "\u001b[1;31mValueError\u001b[0m                                Traceback (most recent call last)",
      "\u001b[1;32m<ipython-input-11-10ce642b6df0>\u001b[0m in \u001b[0;36m<module>\u001b[1;34m\u001b[0m\n\u001b[0;32m      1\u001b[0m \u001b[1;32mtry\u001b[0m\u001b[1;33m:\u001b[0m\u001b[1;33m\u001b[0m\u001b[1;33m\u001b[0m\u001b[0m\n\u001b[0;32m      2\u001b[0m     \u001b[0mnum1\u001b[0m \u001b[1;33m=\u001b[0m \u001b[0mint\u001b[0m\u001b[1;33m(\u001b[0m\u001b[0minput\u001b[0m\u001b[1;33m(\u001b[0m\u001b[1;34m\"Please enter the first number: \"\u001b[0m\u001b[1;33m)\u001b[0m\u001b[1;33m)\u001b[0m\u001b[1;33m\u001b[0m\u001b[1;33m\u001b[0m\u001b[0m\n\u001b[1;32m----> 3\u001b[1;33m     \u001b[0mnum2\u001b[0m \u001b[1;33m=\u001b[0m \u001b[0mint\u001b[0m\u001b[1;33m(\u001b[0m\u001b[0minput\u001b[0m\u001b[1;33m(\u001b[0m\u001b[1;34m\"Please enter the second number: \"\u001b[0m\u001b[1;33m)\u001b[0m\u001b[1;33m)\u001b[0m\u001b[1;33m\u001b[0m\u001b[1;33m\u001b[0m\u001b[0m\n\u001b[0m\u001b[0;32m      4\u001b[0m     \u001b[0mresult\u001b[0m \u001b[1;33m=\u001b[0m \u001b[0mnum1\u001b[0m \u001b[1;33m/\u001b[0m \u001b[0mnum2\u001b[0m\u001b[1;33m\u001b[0m\u001b[1;33m\u001b[0m\u001b[0m\n\u001b[0;32m      5\u001b[0m     \u001b[0mprint\u001b[0m \u001b[1;33m(\u001b[0m\u001b[1;34mf\"So {num1} / {num2} = {result}...\"\u001b[0m\u001b[1;33m)\u001b[0m\u001b[1;33m\u001b[0m\u001b[1;33m\u001b[0m\u001b[0m\n",
      "\u001b[1;31mValueError\u001b[0m: invalid literal for int() with base 10: '20.5'"
     ]
    }
   ],
   "source": [
    "try:\n",
    "    num1 = int(input(\"Please enter the first number: \"))\n",
    "    num2 = int(input(\"Please enter the second number: \"))\n",
    "    result = num1 / num2\n",
    "    print (f\"So {num1} / {num2} = {result}...\")\n",
    "except ZeroDivisionError as zde:\n",
    "    print (\"ZeroDivisionError: Division by ZERO is Illegal !!!...\")\n",
    "    print (\"ZeroDivisionError: Error message:\", zde)\n",
    "    print (\"ZeroDivisionError: Error type:\", type(zde))\n",
    "print (\"End of the program...\")"
   ]
  },
  {
   "cell_type": "code",
   "execution_count": 13,
   "id": "a06c4a10-f034-4e7f-bafe-c01e4d0f55fa",
   "metadata": {},
   "outputs": [
    {
     "name": "stdin",
     "output_type": "stream",
     "text": [
      "Please enter the first number:  100.5\n"
     ]
    },
    {
     "name": "stdout",
     "output_type": "stream",
     "text": [
      "ValueError: Please provide integer numbers only as input...\n",
      "ValueError: Error message: invalid literal for int() with base 10: '100.5'\n",
      "ValueError: Error type: <class 'ValueError'>\n",
      "End of the program...\n"
     ]
    }
   ],
   "source": [
    "try:\n",
    "    num1 = int(input(\"Please enter the first number: \"))\n",
    "    num2 = int(input(\"Please enter the second number: \"))\n",
    "    result = num1 / num2\n",
    "    print (f\"So {num1} / {num2} = {result}...\")\n",
    "except ZeroDivisionError as zde:\n",
    "    print (\"ZeroDivisionError: Division by ZERO is Illegal !!!...\")\n",
    "    print (\"ZeroDivisionError: Error message:\", zde)\n",
    "    print (\"ZeroDivisionError: Error type:\", type(zde))\n",
    "except ValueError as ve:\n",
    "    print (\"ValueError: Please provide integer numbers only as input...\")\n",
    "    print (\"ValueError: Error message:\", ve)\n",
    "    print (\"ValueError: Error type:\", type(ve))\n",
    "print (\"End of the program...\")"
   ]
  },
  {
   "cell_type": "code",
   "execution_count": 20,
   "id": "1daa1f0e-2661-4d24-91f8-4d88a5219ebc",
   "metadata": {},
   "outputs": [
    {
     "name": "stdin",
     "output_type": "stream",
     "text": [
      "Please enter the first number:  100\n",
      "Please enter the second number:  0\n"
     ]
    },
    {
     "name": "stdout",
     "output_type": "stream",
     "text": [
      "Exception: Some exception has taken place...\n",
      "Exception: Error message: division by zero\n",
      "Exception: Error type: <class 'ZeroDivisionError'>\n",
      "End of the program...\n"
     ]
    }
   ],
   "source": [
    "try:\n",
    "    num1 = int(input(\"Please enter the first number: \"))\n",
    "    num2 = int(input(\"Please enter the second number: \"))\n",
    "    result = num1 / num2\n",
    "    print (f\"So {num1} / {num2} = {result}...\")\n",
    "except ValueError as ve:\n",
    "    print (\"ValueError: Please provide integer numbers only as input...\")\n",
    "    print (\"ValueError: Error message:\", ve)\n",
    "    print (\"ValueError: Error type:\", type(ve))\n",
    "# except ZeroDivisionError as zde:\n",
    "#     print (\"ZeroDivisionError: Division by ZERO is Illegal !!!...\")\n",
    "#     print (\"ZeroDivisionError: Error message:\", zde)\n",
    "#     print (\"ZeroDivisionError: Error type:\", type(zde))\n",
    "except Exception as ex:\n",
    "    print (\"Exception: Some exception has taken place...\")\n",
    "    print (\"Exception: Error message:\", ex)\n",
    "    print (\"Exception: Error type:\", type(ex))\n",
    "print (\"End of the program...\")"
   ]
  },
  {
   "cell_type": "code",
   "execution_count": 22,
   "id": "4e5f7c9c-8059-4610-88a6-9e6a2ee86fd7",
   "metadata": {},
   "outputs": [
    {
     "name": "stdin",
     "output_type": "stream",
     "text": [
      "Please enter the first number:  100.5\n"
     ]
    },
    {
     "name": "stdout",
     "output_type": "stream",
     "text": [
      "Exception: Some exception has taken place...\n",
      "Exception: Error message: invalid literal for int() with base 10: '100.5'\n",
      "Exception: Error type: <class 'ValueError'>\n",
      "End of the program...\n"
     ]
    }
   ],
   "source": [
    "try:\n",
    "    num1 = int(input(\"Please enter the first number: \"))\n",
    "    num2 = int(input(\"Please enter the second number: \"))\n",
    "    result = num1 / num2\n",
    "    print (f\"So {num1} / {num2} = {result}...\")\n",
    "except Exception as ex:\n",
    "    print (\"Exception: Some exception has taken place...\")\n",
    "    print (\"Exception: Error message:\", ex)\n",
    "    print (\"Exception: Error type:\", type(ex))\n",
    "except ValueError as ve:\n",
    "    print (\"ValueError: Please provide integer numbers only as input...\")\n",
    "    print (\"ValueError: Error message:\", ve)\n",
    "    print (\"ValueError: Error type:\", type(ve))\n",
    "except ZeroDivisionError as zde:\n",
    "    print (\"ZeroDivisionError: Division by ZERO is Illegal !!!...\")\n",
    "    print (\"ZeroDivisionError: Error message:\", zde)\n",
    "    print (\"ZeroDivisionError: Error type:\", type(zde))\n",
    "print (\"End of the program...\")"
   ]
  },
  {
   "cell_type": "code",
   "execution_count": 24,
   "id": "4dcb81de-508e-4d2b-8218-067163cd6c62",
   "metadata": {},
   "outputs": [
    {
     "name": "stdin",
     "output_type": "stream",
     "text": [
      "Please enter the first number:  100\n",
      "Please enter the second number:  0\n"
     ]
    },
    {
     "name": "stdout",
     "output_type": "stream",
     "text": [
      "Exception: Some exception has taken place...\n",
      "End of the program...\n"
     ]
    }
   ],
   "source": [
    "try:\n",
    "    num1 = int(input(\"Please enter the first number: \"))\n",
    "    num2 = int(input(\"Please enter the second number: \"))\n",
    "    result = num1 / num2\n",
    "    print (f\"So {num1} / {num2} = {result}...\")\n",
    "except ValueError as ve:\n",
    "    print (\"ValueError: Please provide integer numbers only as input...\")\n",
    "    print (\"ValueError: Error message:\", ve)\n",
    "    print (\"ValueError: Error type:\", type(ve))\n",
    "# except ZeroDivisionError as zde:\n",
    "#     print (\"ZeroDivisionError: Division by ZERO is Illegal !!!...\")\n",
    "#     print (\"ZeroDivisionError: Error message:\", zde)\n",
    "#     print (\"ZeroDivisionError: Error type:\", type(zde))\n",
    "except:\n",
    "    print (\"Exception: Some exception has taken place...\")\n",
    "    # print (\"Exception: Error message:\", ex)\n",
    "    # print (\"Exception: Error type:\", type(ex))\n",
    "print (\"End of the program...\")"
   ]
  },
  {
   "cell_type": "code",
   "execution_count": 26,
   "id": "a3ce51a2-e56f-48bc-becb-358ad81cfba3",
   "metadata": {},
   "outputs": [
    {
     "name": "stdin",
     "output_type": "stream",
     "text": [
      "Please enter the first number:  100.5\n"
     ]
    },
    {
     "name": "stdout",
     "output_type": "stream",
     "text": [
      "ValueError: Please provide integer numbers only as input...\n",
      "ValueError: Error message: invalid literal for int() with base 10: '100.5'\n",
      "ValueError: Error type: <class 'ValueError'>\n",
      "End of the program...\n"
     ]
    }
   ],
   "source": [
    "try:\n",
    "    num1 = int(input(\"Please enter the first number: \"))\n",
    "    num2 = int(input(\"Please enter the second number: \"))\n",
    "    result = num1 / num2\n",
    "    print (f\"So {num1} / {num2} = {result}...\")\n",
    "except ValueError as ve:\n",
    "    print (\"ValueError: Please provide integer numbers only as input...\")\n",
    "    print (\"ValueError: Error message:\", ve)\n",
    "    print (\"ValueError: Error type:\", type(ve))\n",
    "except ZeroDivisionError as zde:\n",
    "    print (\"ZeroDivisionError: Division by ZERO is Illegal !!!...\")\n",
    "    print (\"ZeroDivisionError: Error message:\", zde)\n",
    "    print (\"ZeroDivisionError: Error type:\", type(zde))\n",
    "except Exception as ex:\n",
    "    print (\"Exception: Some exception has taken place...\")\n",
    "    print (\"Exception: Error message:\", ex)\n",
    "    print (\"Exception: Error type:\", type(ex))\n",
    "else:\n",
    "    print (\"ELSE: Else block is executing...\")\n",
    "    print (\"ELSE: Had a smooth execution...\")\n",
    "print (\"End of the program...\")"
   ]
  },
  {
   "cell_type": "code",
   "execution_count": 28,
   "id": "3a8d436e-fa2a-48ac-91df-ff5088315500",
   "metadata": {},
   "outputs": [
    {
     "name": "stdin",
     "output_type": "stream",
     "text": [
      "Please enter the first number:  100\n",
      "Please enter the second number:  0\n"
     ]
    },
    {
     "name": "stdout",
     "output_type": "stream",
     "text": [
      "ZeroDivisionError: Division by ZERO is Illegal !!!...\n",
      "ZeroDivisionError: Error message: division by zero\n",
      "ZeroDivisionError: Error type: <class 'ZeroDivisionError'>\n",
      "FINALLY: Finally block is executing...\n",
      "FINALLY: Flinally block executes always...\n",
      "End of the program...\n"
     ]
    }
   ],
   "source": [
    "try:\n",
    "    num1 = int(input(\"Please enter the first number: \"))\n",
    "    num2 = int(input(\"Please enter the second number: \"))\n",
    "    result = num1 / num2\n",
    "    print (f\"So {num1} / {num2} = {result}...\")\n",
    "except ValueError as ve:\n",
    "    print (\"ValueError: Please provide integer numbers only as input...\")\n",
    "    print (\"ValueError: Error message:\", ve)\n",
    "    print (\"ValueError: Error type:\", type(ve))\n",
    "except ZeroDivisionError as zde:\n",
    "    print (\"ZeroDivisionError: Division by ZERO is Illegal !!!...\")\n",
    "    print (\"ZeroDivisionError: Error message:\", zde)\n",
    "    print (\"ZeroDivisionError: Error type:\", type(zde))\n",
    "except Exception as ex:\n",
    "    print (\"Exception: Some exception has taken place...\")\n",
    "    print (\"Exception: Error message:\", ex)\n",
    "    print (\"Exception: Error type:\", type(ex))\n",
    "else:\n",
    "    print (\"ELSE: Else block is executing...\")\n",
    "    print (\"ELSE: Had a smooth execution...\")\n",
    "finally:\n",
    "    print (\"FINALLY: Finally block is executing...\")\n",
    "    print (\"FINALLY: Flinally block executes always...\")\n",
    "print (\"End of the program...\")"
   ]
  },
  {
   "cell_type": "code",
   "execution_count": 34,
   "id": "49d52c0b-bfc6-41bc-9279-1f4cdd7c27b8",
   "metadata": {},
   "outputs": [
    {
     "name": "stdin",
     "output_type": "stream",
     "text": [
      "Please enter the first number (between -100 to +100):  -900\n",
      "Please enter the second number (between -100 to +100):  10\n"
     ]
    },
    {
     "name": "stdout",
     "output_type": "stream",
     "text": [
      "NameError: Input number is out of range...\n",
      "NameError: Input number is below -100...\n",
      "FINALLY: Finally block is executing...\n",
      "FINALLY: Flinally block executes always...\n",
      "End of the program...\n"
     ]
    }
   ],
   "source": [
    "try:\n",
    "    num1 = int(input(\"Please enter the first number (between -100 to +100): \"))\n",
    "    num2 = int(input(\"Please enter the second number (between -100 to +100): \"))\n",
    "    if (num1 > 100 or num2 > 100):\n",
    "        raise NameError(\"Above100\")\n",
    "    if (num1 < -100 or num2 < -100):\n",
    "        raise NameError(\"Below-100\")\n",
    "    result = num1 / num2\n",
    "    print (f\"So {num1} / {num2} = {result}...\")\n",
    "except ValueError as ve:\n",
    "    print (\"ValueError: Please provide integer numbers only as input...\")\n",
    "    print (\"ValueError: Error message:\", ve)\n",
    "    print (\"ValueError: Error type:\", type(ve))\n",
    "except NameError as ne:\n",
    "    print (\"NameError: Input number is out of range...\")\n",
    "    if str(ne) == \"Above100\": print (\"NameError: Input number is above +100...\");\n",
    "    if str(ne) == \"Below-100\": print (\"NameError: Input number is below -100...\")\n",
    "except ZeroDivisionError as zde:\n",
    "    print (\"ZeroDivisionError: Division by ZERO is Illegal !!!...\")\n",
    "    print (\"ZeroDivisionError: Error message:\", zde)\n",
    "    print (\"ZeroDivisionError: Error type:\", type(zde))\n",
    "except Exception as ex:\n",
    "    print (\"Exception: Some exception has taken place...\")\n",
    "    print (\"Exception: Error message:\", ex)\n",
    "    print (\"Exception: Error type:\", type(ex))\n",
    "else:\n",
    "    print (\"ELSE: Else block is executing...\")\n",
    "    print (\"ELSE: Had a smooth execution...\")\n",
    "finally:\n",
    "    print (\"FINALLY: Finally block is executing...\")\n",
    "    print (\"FINALLY: Flinally block executes always...\")\n",
    "print (\"End of the program...\")"
   ]
  },
  {
   "cell_type": "code",
   "execution_count": null,
   "id": "0c39b04a-ee96-469a-a170-e13099cbee72",
   "metadata": {},
   "outputs": [],
   "source": [
    "Class Assignment - 1 / Day-2\n",
    "----------------------------\n",
    "Modify the above final code in such a way that until the division operation takes place successfully, \n",
    "the code will keep on asking user to enter pair of new integer numbers and execute again for the division operation. "
   ]
  },
  {
   "cell_type": "code",
   "execution_count": 35,
   "id": "74a770cd-3f4f-4f10-a628-51351b7ae419",
   "metadata": {},
   "outputs": [
    {
     "name": "stdin",
     "output_type": "stream",
     "text": [
      "Please enter the first number (between -100 to +100):  100\n",
      "Please enter the second number (between -100 to +100):  0\n"
     ]
    },
    {
     "name": "stdout",
     "output_type": "stream",
     "text": [
      "ZeroDivisionError: Division by ZERO is Illegal !!!...\n",
      "ZeroDivisionError: Error message: division by zero\n",
      "ZeroDivisionError: Error type: <class 'ZeroDivisionError'>\n",
      "FINALLY: Finally block is executing...\n",
      "FINALLY: Flinally block executes always...\n"
     ]
    },
    {
     "name": "stdin",
     "output_type": "stream",
     "text": [
      "Please enter the first number (between -100 to +100):  100\n",
      "Please enter the second number (between -100 to +100):  2.5\n"
     ]
    },
    {
     "name": "stdout",
     "output_type": "stream",
     "text": [
      "ValueError: Please provide integer numbers only as input...\n",
      "ValueError: Error message: invalid literal for int() with base 10: '2.5'\n",
      "ValueError: Error type: <class 'ValueError'>\n",
      "FINALLY: Finally block is executing...\n",
      "FINALLY: Flinally block executes always...\n"
     ]
    },
    {
     "name": "stdin",
     "output_type": "stream",
     "text": [
      "Please enter the first number (between -100 to +100):  900\n",
      "Please enter the second number (between -100 to +100):  20\n"
     ]
    },
    {
     "name": "stdout",
     "output_type": "stream",
     "text": [
      "NameError: Input number is out of range...\n",
      "NameError: Input number is above +100...\n",
      "FINALLY: Finally block is executing...\n",
      "FINALLY: Flinally block executes always...\n"
     ]
    },
    {
     "name": "stdin",
     "output_type": "stream",
     "text": [
      "Please enter the first number (between -100 to +100):  -900\n",
      "Please enter the second number (between -100 to +100):  20\n"
     ]
    },
    {
     "name": "stdout",
     "output_type": "stream",
     "text": [
      "NameError: Input number is out of range...\n",
      "NameError: Input number is below -100...\n",
      "FINALLY: Finally block is executing...\n",
      "FINALLY: Flinally block executes always...\n"
     ]
    },
    {
     "name": "stdin",
     "output_type": "stream",
     "text": [
      "Please enter the first number (between -100 to +100):  70\n",
      "Please enter the second number (between -100 to +100):  3\n"
     ]
    },
    {
     "name": "stdout",
     "output_type": "stream",
     "text": [
      "So 70 / 3 = 23.333333333333332...\n",
      "ELSE: Else block is executing...\n",
      "ELSE: Had a smooth execution...\n",
      "FINALLY: Finally block is executing...\n",
      "FINALLY: Flinally block executes always...\n",
      "End of the program...\n"
     ]
    }
   ],
   "source": [
    "while (True):\n",
    "    try:\n",
    "        num1 = int(input(\"Please enter the first number (between -100 to +100): \"))\n",
    "        num2 = int(input(\"Please enter the second number (between -100 to +100): \"))\n",
    "        if (num1 > 100 or num2 > 100):\n",
    "            raise NameError(\"Above100\")\n",
    "        if (num1 < -100 or num2 < -100):\n",
    "            raise NameError(\"Below-100\")\n",
    "        result = num1 / num2\n",
    "        print (f\"So {num1} / {num2} = {result}...\")\n",
    "    except ValueError as ve:\n",
    "        print (\"ValueError: Please provide integer numbers only as input...\")\n",
    "        print (\"ValueError: Error message:\", ve)\n",
    "        print (\"ValueError: Error type:\", type(ve))\n",
    "    except NameError as ne:\n",
    "        print (\"NameError: Input number is out of range...\")\n",
    "        if str(ne) == \"Above100\": print (\"NameError: Input number is above +100...\");\n",
    "        if str(ne) == \"Below-100\": print (\"NameError: Input number is below -100...\")\n",
    "    except ZeroDivisionError as zde:\n",
    "        print (\"ZeroDivisionError: Division by ZERO is Illegal !!!...\")\n",
    "        print (\"ZeroDivisionError: Error message:\", zde)\n",
    "        print (\"ZeroDivisionError: Error type:\", type(zde))\n",
    "    except Exception as ex:\n",
    "        print (\"Exception: Some exception has taken place...\")\n",
    "        print (\"Exception: Error message:\", ex)\n",
    "        print (\"Exception: Error type:\", type(ex))\n",
    "    else:\n",
    "        print (\"ELSE: Else block is executing...\")\n",
    "        print (\"ELSE: Had a smooth execution...\")\n",
    "        break\n",
    "    finally:\n",
    "        print (\"FINALLY: Finally block is executing...\")\n",
    "        print (\"FINALLY: Flinally block executes always...\")\n",
    "print (\"End of the program...\")"
   ]
  },
  {
   "cell_type": "code",
   "execution_count": null,
   "id": "9aebb2d7-7900-4538-99f7-97fb57671c4c",
   "metadata": {},
   "outputs": [],
   "source": []
  }
 ],
 "metadata": {
  "kernelspec": {
   "display_name": "Python 3",
   "language": "python",
   "name": "python3"
  },
  "language_info": {
   "codemirror_mode": {
    "name": "ipython",
    "version": 3
   },
   "file_extension": ".py",
   "mimetype": "text/x-python",
   "name": "python",
   "nbconvert_exporter": "python",
   "pygments_lexer": "ipython3",
   "version": "3.8.8"
  }
 },
 "nbformat": 4,
 "nbformat_minor": 5
}
