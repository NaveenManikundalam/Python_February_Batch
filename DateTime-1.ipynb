{
 "cells": [
  {
   "cell_type": "markdown",
   "id": "357490b6-ac9a-4da9-8503-66d1f1b7100f",
   "metadata": {},
   "source": [
    "## Python datetime Module\n",
    "> In this article, you will learn to manipulate date and time in Python with the help of examples."
   ]
  },
  {
   "cell_type": "markdown",
   "id": "1b1c8dce-451e-45be-8de8-0e29442d5332",
   "metadata": {},
   "source": [
    "### Example: Get Current Date and Time"
   ]
  },
  {
   "cell_type": "code",
   "execution_count": 1,
   "id": "11924512-4b0d-4a9a-91cc-0c843ec24fdf",
   "metadata": {},
   "outputs": [
    {
     "name": "stdout",
     "output_type": "stream",
     "text": [
      "2022-08-10 17:35:49.086940\n",
      "2022-08-10\n"
     ]
    }
   ],
   "source": [
    "import datetime\n",
    "\n",
    "datetime_object = datetime.datetime.now()\n",
    "print(datetime_object)\n",
    "\n",
    "date_object = datetime.date.today()\n",
    "print(date_object)"
   ]
  },
  {
   "cell_type": "code",
   "execution_count": 5,
   "id": "35587e38-153b-4ec8-ae4c-a86849915088",
   "metadata": {},
   "outputs": [
    {
     "name": "stdout",
     "output_type": "stream",
     "text": [
      "['MAXYEAR', 'MINYEAR', '__builtins__', '__cached__', '__doc__', '__file__', '__loader__', '__name__', '__package__', '__spec__', 'date', 'datetime', 'datetime_CAPI', 'sys', 'time', 'timedelta', 'timezone', 'tzinfo']\n"
     ]
    }
   ],
   "source": [
    "# We can use dir() function to get a list containing all attributes of a module.\n",
    "print(dir(datetime))"
   ]
  },
  {
   "cell_type": "markdown",
   "id": "44c9d361-fed3-468a-80c2-35fc9fb97430",
   "metadata": {},
   "source": [
    "**Commonly used classes in the datetime module are:**\n",
    "* date Class\n",
    "* time Class\n",
    "* datetime Class\n",
    "* timedelta Class"
   ]
  },
  {
   "cell_type": "markdown",
   "id": "40790eb3-e8cc-457d-b081-fce6bf1547eb",
   "metadata": {},
   "source": [
    "### datetime.date Class\n",
    "> You can instantiate date objects from the date class. A date object represents a date (year, month and day)."
   ]
  },
  {
   "cell_type": "code",
   "execution_count": 9,
   "id": "f305b2d3-f13f-4f50-ae48-7e9cbe72a201",
   "metadata": {},
   "outputs": [
    {
     "name": "stdout",
     "output_type": "stream",
     "text": [
      "2019-04-13\n",
      "Current date = 2022-05-06\n",
      "Date = 2012-01-11\n"
     ]
    }
   ],
   "source": [
    "d = datetime.date(2019, 4, 13)\n",
    "print(d)\n",
    "\n",
    "today = datetime.date.today()\n",
    "print(\"Current date =\", today)\n",
    "\n",
    "# Get date from a timestamp\n",
    "timestamp = datetime.date.fromtimestamp(1326244364)\n",
    "print(\"Date =\", timestamp)"
   ]
  },
  {
   "cell_type": "code",
   "execution_count": 10,
   "id": "5929cf8a-6744-42df-a15b-bf43ed1e7824",
   "metadata": {},
   "outputs": [
    {
     "name": "stdout",
     "output_type": "stream",
     "text": [
      "Current year: 2022\n",
      "Current month: 5\n",
      "Current day: 6\n"
     ]
    }
   ],
   "source": [
    "# Print today's year, month and day\n",
    "# date object of today's date\n",
    "today = datetime.date.today() \n",
    "\n",
    "print(\"Current year:\", today.year)\n",
    "print(\"Current month:\", today.month)\n",
    "print(\"Current day:\", today.day)"
   ]
  },
  {
   "cell_type": "markdown",
   "id": "5084bf62-27a2-4223-ba68-e2e4a2dd849f",
   "metadata": {},
   "source": [
    "### datetime.time Class\n",
    "> A time object instantiated from the time class represents the local time."
   ]
  },
  {
   "cell_type": "code",
   "execution_count": 11,
   "id": "fa0f0133-30c0-46c8-83aa-b091fc7595e3",
   "metadata": {},
   "outputs": [
    {
     "name": "stdout",
     "output_type": "stream",
     "text": [
      "a = 00:00:00\n",
      "b = 11:34:56\n",
      "c = 11:34:56\n",
      "d = 11:34:56.234566\n"
     ]
    }
   ],
   "source": [
    "# time(hour = 0, minute = 0, second = 0)\n",
    "a = datetime.time()\n",
    "print(\"a =\", a)\n",
    "\n",
    "# time(hour, minute and second)\n",
    "b = datetime.time(11, 34, 56)\n",
    "print(\"b =\", b)\n",
    "\n",
    "# time(hour, minute and second)\n",
    "c = datetime.time(hour = 11, minute = 34, second = 56)\n",
    "print(\"c =\", c)\n",
    "\n",
    "# time(hour, minute, second, microsecond)\n",
    "d = datetime.time(11, 34, 56, 234566)\n",
    "print(\"d =\", d)"
   ]
  },
  {
   "cell_type": "code",
   "execution_count": 12,
   "id": "416a6093-f882-46ba-8ac4-f244016637ee",
   "metadata": {},
   "outputs": [
    {
     "name": "stdout",
     "output_type": "stream",
     "text": [
      "hour = 11\n",
      "minute = 34\n",
      "second = 56\n",
      "microsecond = 0\n"
     ]
    }
   ],
   "source": [
    "# Print hour, minute, second and microsecond\n",
    "a = datetime.time(11, 34, 56)\n",
    "\n",
    "print(\"hour =\", a.hour)\n",
    "print(\"minute =\", a.minute)\n",
    "print(\"second =\", a.second)\n",
    "print(\"microsecond =\", a.microsecond)"
   ]
  },
  {
   "cell_type": "markdown",
   "id": "6c5cb207-3a78-447e-8c57-7cf69d754bcb",
   "metadata": {},
   "source": [
    "### datetime.datetime Class\n",
    "> The datetime module has a class named dateclass that can contain information from both date and time objects."
   ]
  },
  {
   "cell_type": "code",
   "execution_count": 13,
   "id": "d05c44e2-7449-4fb5-9185-93d568527eb0",
   "metadata": {},
   "outputs": [
    {
     "name": "stdout",
     "output_type": "stream",
     "text": [
      "2018-11-28 00:00:00\n",
      "2017-11-28 23:55:59.342380\n"
     ]
    }
   ],
   "source": [
    "from datetime import datetime\n",
    "\n",
    "# datetime(year, month, day)\n",
    "a = datetime(2018, 11, 28)\n",
    "print(a)\n",
    "\n",
    "# datetime(year, month, day, hour, minute, second, microsecond)\n",
    "b = datetime(2017, 11, 28, 23, 55, 59, 342380)\n",
    "print(b)"
   ]
  },
  {
   "cell_type": "code",
   "execution_count": 14,
   "id": "bc69605a-44a2-432d-9d16-de97c071c9e9",
   "metadata": {},
   "outputs": [
    {
     "name": "stdout",
     "output_type": "stream",
     "text": [
      "year = 2017\n",
      "month = 11\n",
      "hour = 23\n",
      "minute = 55\n",
      "timestamp = 1511893559.34238\n"
     ]
    }
   ],
   "source": [
    "a = datetime(2017, 11, 28, 23, 55, 59, 342380)\n",
    "print(\"year =\", a.year)\n",
    "print(\"month =\", a.month)\n",
    "print(\"hour =\", a.hour)\n",
    "print(\"minute =\", a.minute)\n",
    "print(\"timestamp =\", a.timestamp())"
   ]
  },
  {
   "cell_type": "markdown",
   "id": "195c824c-5eef-437e-95b4-1e4d888e3b73",
   "metadata": {},
   "source": [
    "### datetime.timedelta Class\n",
    "> A timedelta object represents the difference between two dates or times."
   ]
  },
  {
   "cell_type": "code",
   "execution_count": 15,
   "id": "006aabff-ad8b-4afe-8352-b5ccee934b05",
   "metadata": {},
   "outputs": [
    {
     "name": "stdout",
     "output_type": "stream",
     "text": [
      "t3 = 201 days, 0:00:00\n",
      "t6 = -333 days, 1:14:20\n",
      "type of t3 = <class 'datetime.timedelta'>\n",
      "type of t6 = <class 'datetime.timedelta'>\n"
     ]
    }
   ],
   "source": [
    "from datetime import datetime, date\n",
    "\n",
    "t1 = date(year = 2018, month = 7, day = 12)\n",
    "t2 = date(year = 2017, month = 12, day = 23)\n",
    "t3 = t1 - t2\n",
    "print(\"t3 =\", t3)\n",
    "\n",
    "t4 = datetime(year = 2018, month = 7, day = 12, hour = 7, minute = 9, second = 33)\n",
    "t5 = datetime(year = 2019, month = 6, day = 10, hour = 5, minute = 55, second = 13)\n",
    "t6 = t4 - t5\n",
    "print(\"t6 =\", t6)\n",
    "\n",
    "print(\"type of t3 =\", type(t3)) \n",
    "print(\"type of t6 =\", type(t6)) "
   ]
  },
  {
   "cell_type": "code",
   "execution_count": 16,
   "id": "5496ae85-831a-4e1f-bd4d-1ca4e5a441c5",
   "metadata": {},
   "outputs": [
    {
     "name": "stdout",
     "output_type": "stream",
     "text": [
      "t3 = 14 days, 13:55:39\n"
     ]
    }
   ],
   "source": [
    "# Difference between two timedelta objects\n",
    "\n",
    "from datetime import timedelta\n",
    "\n",
    "t1 = timedelta(weeks = 2, days = 5, hours = 1, seconds = 33)\n",
    "t2 = timedelta(days = 4, hours = 11, minutes = 4, seconds = 54)\n",
    "t3 = t1 - t2\n",
    "\n",
    "print(\"t3 =\", t3)"
   ]
  },
  {
   "cell_type": "code",
   "execution_count": 17,
   "id": "f0ac7c4e-c326-4c09-ab9a-c2a2f4737a53",
   "metadata": {},
   "outputs": [
    {
     "name": "stdout",
     "output_type": "stream",
     "text": [
      "t3 = -1 day, 23:59:39\n",
      "t3 = 0:00:21\n"
     ]
    }
   ],
   "source": [
    "# Printing negative timedelta object\n",
    "\n",
    "from datetime import timedelta\n",
    "\n",
    "t1 = timedelta(seconds = 33)\n",
    "t2 = timedelta(seconds = 54)\n",
    "t3 = t1 - t2\n",
    "\n",
    "print(\"t3 =\", t3)\n",
    "print(\"t3 =\", abs(t3))"
   ]
  },
  {
   "cell_type": "code",
   "execution_count": 18,
   "id": "48ec57d5-6530-45e4-8df8-dba159688003",
   "metadata": {},
   "outputs": [
    {
     "name": "stdout",
     "output_type": "stream",
     "text": [
      "total seconds = 435633.233423\n"
     ]
    }
   ],
   "source": [
    "# Time duration in seconds\n",
    "from datetime import timedelta\n",
    "\n",
    "t = timedelta(days = 5, hours = 1, seconds = 33, microseconds = 233423)\n",
    "print(\"total seconds =\", t.total_seconds())"
   ]
  },
  {
   "cell_type": "markdown",
   "id": "7cfa5688-28c6-4aab-be6a-b2e5fc79351e",
   "metadata": {},
   "source": [
    "### Python format datetime\n",
    "> The way date and time is represented may be different in different places, organizations etc. It's more common to use mm/dd/yyyy in the US, whereas dd/mm/yyyy is more common in the UK.\n",
    "\n",
    "> Python has strftime() and strptime() methods to handle this."
   ]
  },
  {
   "cell_type": "code",
   "execution_count": 19,
   "id": "d81afb67-b0b6-4350-a9f8-25c0ec689c86",
   "metadata": {},
   "outputs": [
    {
     "name": "stdout",
     "output_type": "stream",
     "text": [
      "time: 19:10:08\n",
      "s1: 05/06/2022, 19:10:08\n",
      "s2: 06/05/2022, 19:10:08\n"
     ]
    }
   ],
   "source": [
    "# Python strftime() - datetime object to string\n",
    "from datetime import datetime\n",
    "\n",
    "# current date and time\n",
    "now = datetime.now()\n",
    "\n",
    "t = now.strftime(\"%H:%M:%S\")\n",
    "print(\"time:\", t)\n",
    "\n",
    "s1 = now.strftime(\"%m/%d/%Y, %H:%M:%S\")\n",
    "# mm/dd/YY H:M:S format\n",
    "print(\"s1:\", s1)\n",
    "\n",
    "s2 = now.strftime(\"%d/%m/%Y, %H:%M:%S\")\n",
    "# dd/mm/YY H:M:S format\n",
    "print(\"s2:\", s2)"
   ]
  },
  {
   "cell_type": "markdown",
   "id": "a34389a1-264e-406c-87e0-b8ae4e3a768a",
   "metadata": {},
   "source": [
    "**In the above program, t, s1 and s2 are strings.**\n",
    "* %Y - year [0001,..., 2018, 2019,..., 9999]\n",
    "* %m - month [01, 02, ..., 11, 12]\n",
    "* %d - day [01, 02, ..., 30, 31]\n",
    "* %H - hour [00, 01, ..., 22, 23\n",
    "* %M - minute [00, 01, ..., 58, 59]\n",
    "* %S - second [00, 01, ..., 58, 59]"
   ]
  },
  {
   "cell_type": "code",
   "execution_count": 20,
   "id": "b67f0d49-1dff-4f96-aab4-df3bab318e6f",
   "metadata": {},
   "outputs": [
    {
     "name": "stdout",
     "output_type": "stream",
     "text": [
      "date_string = 21 June, 2018\n",
      "date_object = 2018-06-21 00:00:00\n"
     ]
    }
   ],
   "source": [
    "# Python strptime() - string to datetime\n",
    "from datetime import datetime\n",
    "\n",
    "date_string = \"21 June, 2018\"\n",
    "print(\"date_string =\", date_string)\n",
    "\n",
    "date_object = datetime.strptime(date_string, \"%d %B, %Y\")\n",
    "print(\"date_object =\", date_object)"
   ]
  },
  {
   "cell_type": "markdown",
   "id": "d9297fb6-d1f1-4835-962d-6a7130b12351",
   "metadata": {},
   "source": [
    "### Handling timezone in Python\n",
    "> Suppose, you are working on a project and need to display date and time based on their timezone. Rather than trying to handle timezone yourself, we suggest you to use a third-party pytZ module."
   ]
  },
  {
   "cell_type": "code",
   "execution_count": 21,
   "id": "e46f10f6-428a-4fb7-8d38-d51bbe5eeaf5",
   "metadata": {},
   "outputs": [
    {
     "name": "stdout",
     "output_type": "stream",
     "text": [
      "Local: 05/06/2022, 19:11:57\n",
      "NY: 05/06/2022, 09:41:58\n",
      "London: 05/06/2022, 14:41:58\n"
     ]
    }
   ],
   "source": [
    "from datetime import datetime\n",
    "import pytz\n",
    "\n",
    "local = datetime.now()\n",
    "print(\"Local:\", local.strftime(\"%m/%d/%Y, %H:%M:%S\"))\n",
    "\n",
    "\n",
    "tz_NY = pytz.timezone('America/New_York') \n",
    "datetime_NY = datetime.now(tz_NY)\n",
    "print(\"NY:\", datetime_NY.strftime(\"%m/%d/%Y, %H:%M:%S\"))\n",
    "\n",
    "tz_London = pytz.timezone('Europe/London')\n",
    "datetime_London = datetime.now(tz_London)\n",
    "print(\"London:\", datetime_London.strftime(\"%m/%d/%Y, %H:%M:%S\"))"
   ]
  },
  {
   "cell_type": "code",
   "execution_count": null,
   "id": "6242fd54-4af1-4d1b-936e-b61543fdce8c",
   "metadata": {},
   "outputs": [],
   "source": []
  }
 ],
 "metadata": {
  "kernelspec": {
   "display_name": "Python 3",
   "language": "python",
   "name": "python3"
  },
  "language_info": {
   "codemirror_mode": {
    "name": "ipython",
    "version": 3
   },
   "file_extension": ".py",
   "mimetype": "text/x-python",
   "name": "python",
   "nbconvert_exporter": "python",
   "pygments_lexer": "ipython3",
   "version": "3.8.8"
  }
 },
 "nbformat": 4,
 "nbformat_minor": 5
}
